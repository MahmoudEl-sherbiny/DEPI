{
 "cells": [
  {
   "cell_type": "code",
   "execution_count": 1,
   "id": "681ce738",
   "metadata": {
    "_cell_guid": "b1076dfc-b9ad-4769-8c92-a6c4dae69d19",
    "_uuid": "8f2839f25d086af736a60e9eeb907d3b93b6e0e5",
    "execution": {
     "iopub.execute_input": "2025-09-05T19:21:43.314404Z",
     "iopub.status.busy": "2025-09-05T19:21:43.314007Z",
     "iopub.status.idle": "2025-09-05T19:21:45.448600Z",
     "shell.execute_reply": "2025-09-05T19:21:45.447339Z"
    },
    "papermill": {
     "duration": 2.147131,
     "end_time": "2025-09-05T19:21:45.450311",
     "exception": false,
     "start_time": "2025-09-05T19:21:43.303180",
     "status": "completed"
    },
    "tags": []
   },
   "outputs": [
    {
     "name": "stdout",
     "output_type": "stream",
     "text": [
      "/kaggle/input/playground-series-s5e8/sample_submission.csv\n",
      "/kaggle/input/playground-series-s5e8/train.csv\n",
      "/kaggle/input/playground-series-s5e8/test.csv\n"
     ]
    }
   ],
   "source": [
    "# This Python 3 environment comes with many helpful analytics libraries installed\n",
    "# It is defined by the kaggle/python Docker image: https://github.com/kaggle/docker-python\n",
    "# For example, here's several helpful packages to load\n",
    "\n",
    "import numpy as np # linear algebra\n",
    "import pandas as pd # data processing, CSV file I/O (e.g. pd.read_csv)\n",
    "\n",
    "# Input data files are available in the read-only \"../input/\" directory\n",
    "# For example, running this (by clicking run or pressing Shift+Enter) will list all files under the input directory\n",
    "\n",
    "import os\n",
    "for dirname, _, filenames in os.walk('/kaggle/input'):\n",
    "    for filename in filenames:\n",
    "        print(os.path.join(dirname, filename))\n",
    "\n",
    "# You can write up to 20GB to the current directory (/kaggle/working/) that gets preserved as output when you create a version using \"Save & Run All\" \n",
    "# You can also write temporary files to /kaggle/temp/, but they won't be saved outside of the current session"
   ]
  },
  {
   "cell_type": "code",
   "execution_count": 2,
   "id": "3e1b485a",
   "metadata": {
    "execution": {
     "iopub.execute_input": "2025-09-05T19:21:45.468801Z",
     "iopub.status.busy": "2025-09-05T19:21:45.468339Z",
     "iopub.status.idle": "2025-09-05T19:21:47.531328Z",
     "shell.execute_reply": "2025-09-05T19:21:47.530216Z"
    },
    "papermill": {
     "duration": 2.074037,
     "end_time": "2025-09-05T19:21:47.533191",
     "exception": false,
     "start_time": "2025-09-05T19:21:45.459154",
     "status": "completed"
    },
    "tags": []
   },
   "outputs": [],
   "source": [
    "import matplotlib.pyplot as plt\n",
    "import seaborn as sns"
   ]
  },
  {
   "cell_type": "code",
   "execution_count": 3,
   "id": "70520e35",
   "metadata": {
    "execution": {
     "iopub.execute_input": "2025-09-05T19:21:47.552327Z",
     "iopub.status.busy": "2025-09-05T19:21:47.551848Z",
     "iopub.status.idle": "2025-09-05T19:21:50.617511Z",
     "shell.execute_reply": "2025-09-05T19:21:50.616269Z"
    },
    "papermill": {
     "duration": 3.077852,
     "end_time": "2025-09-05T19:21:50.619573",
     "exception": false,
     "start_time": "2025-09-05T19:21:47.541721",
     "status": "completed"
    },
    "tags": []
   },
   "outputs": [],
   "source": [
    "# Train_data\n",
    "train_data = pd.read_csv(\"/kaggle/input/playground-series-s5e8/train.csv\")\n",
    "test_data = pd.read_csv(\"/kaggle/input/playground-series-s5e8/test.csv\")\n",
    "# sample_data = pd.read_csv(\"/kaggle/input/playground-series-s5e8/sample_submission.csv\")"
   ]
  },
  {
   "cell_type": "code",
   "execution_count": 4,
   "id": "3cb5f11f",
   "metadata": {
    "execution": {
     "iopub.execute_input": "2025-09-05T19:21:50.638245Z",
     "iopub.status.busy": "2025-09-05T19:21:50.637905Z",
     "iopub.status.idle": "2025-09-05T19:21:50.668416Z",
     "shell.execute_reply": "2025-09-05T19:21:50.667441Z"
    },
    "papermill": {
     "duration": 0.041876,
     "end_time": "2025-09-05T19:21:50.670311",
     "exception": false,
     "start_time": "2025-09-05T19:21:50.628435",
     "status": "completed"
    },
    "tags": []
   },
   "outputs": [
    {
     "data": {
      "text/html": [
       "<div>\n",
       "<style scoped>\n",
       "    .dataframe tbody tr th:only-of-type {\n",
       "        vertical-align: middle;\n",
       "    }\n",
       "\n",
       "    .dataframe tbody tr th {\n",
       "        vertical-align: top;\n",
       "    }\n",
       "\n",
       "    .dataframe thead th {\n",
       "        text-align: right;\n",
       "    }\n",
       "</style>\n",
       "<table border=\"1\" class=\"dataframe\">\n",
       "  <thead>\n",
       "    <tr style=\"text-align: right;\">\n",
       "      <th></th>\n",
       "      <th>id</th>\n",
       "      <th>age</th>\n",
       "      <th>job</th>\n",
       "      <th>marital</th>\n",
       "      <th>education</th>\n",
       "      <th>default</th>\n",
       "      <th>balance</th>\n",
       "      <th>housing</th>\n",
       "      <th>loan</th>\n",
       "      <th>contact</th>\n",
       "      <th>day</th>\n",
       "      <th>month</th>\n",
       "      <th>duration</th>\n",
       "      <th>campaign</th>\n",
       "      <th>pdays</th>\n",
       "      <th>previous</th>\n",
       "      <th>poutcome</th>\n",
       "      <th>y</th>\n",
       "    </tr>\n",
       "  </thead>\n",
       "  <tbody>\n",
       "    <tr>\n",
       "      <th>0</th>\n",
       "      <td>0</td>\n",
       "      <td>42</td>\n",
       "      <td>technician</td>\n",
       "      <td>married</td>\n",
       "      <td>secondary</td>\n",
       "      <td>no</td>\n",
       "      <td>7</td>\n",
       "      <td>no</td>\n",
       "      <td>no</td>\n",
       "      <td>cellular</td>\n",
       "      <td>25</td>\n",
       "      <td>aug</td>\n",
       "      <td>117</td>\n",
       "      <td>3</td>\n",
       "      <td>-1</td>\n",
       "      <td>0</td>\n",
       "      <td>unknown</td>\n",
       "      <td>0</td>\n",
       "    </tr>\n",
       "    <tr>\n",
       "      <th>1</th>\n",
       "      <td>1</td>\n",
       "      <td>38</td>\n",
       "      <td>blue-collar</td>\n",
       "      <td>married</td>\n",
       "      <td>secondary</td>\n",
       "      <td>no</td>\n",
       "      <td>514</td>\n",
       "      <td>no</td>\n",
       "      <td>no</td>\n",
       "      <td>unknown</td>\n",
       "      <td>18</td>\n",
       "      <td>jun</td>\n",
       "      <td>185</td>\n",
       "      <td>1</td>\n",
       "      <td>-1</td>\n",
       "      <td>0</td>\n",
       "      <td>unknown</td>\n",
       "      <td>0</td>\n",
       "    </tr>\n",
       "    <tr>\n",
       "      <th>2</th>\n",
       "      <td>2</td>\n",
       "      <td>36</td>\n",
       "      <td>blue-collar</td>\n",
       "      <td>married</td>\n",
       "      <td>secondary</td>\n",
       "      <td>no</td>\n",
       "      <td>602</td>\n",
       "      <td>yes</td>\n",
       "      <td>no</td>\n",
       "      <td>unknown</td>\n",
       "      <td>14</td>\n",
       "      <td>may</td>\n",
       "      <td>111</td>\n",
       "      <td>2</td>\n",
       "      <td>-1</td>\n",
       "      <td>0</td>\n",
       "      <td>unknown</td>\n",
       "      <td>0</td>\n",
       "    </tr>\n",
       "    <tr>\n",
       "      <th>3</th>\n",
       "      <td>3</td>\n",
       "      <td>27</td>\n",
       "      <td>student</td>\n",
       "      <td>single</td>\n",
       "      <td>secondary</td>\n",
       "      <td>no</td>\n",
       "      <td>34</td>\n",
       "      <td>yes</td>\n",
       "      <td>no</td>\n",
       "      <td>unknown</td>\n",
       "      <td>28</td>\n",
       "      <td>may</td>\n",
       "      <td>10</td>\n",
       "      <td>2</td>\n",
       "      <td>-1</td>\n",
       "      <td>0</td>\n",
       "      <td>unknown</td>\n",
       "      <td>0</td>\n",
       "    </tr>\n",
       "    <tr>\n",
       "      <th>4</th>\n",
       "      <td>4</td>\n",
       "      <td>26</td>\n",
       "      <td>technician</td>\n",
       "      <td>married</td>\n",
       "      <td>secondary</td>\n",
       "      <td>no</td>\n",
       "      <td>889</td>\n",
       "      <td>yes</td>\n",
       "      <td>no</td>\n",
       "      <td>cellular</td>\n",
       "      <td>3</td>\n",
       "      <td>feb</td>\n",
       "      <td>902</td>\n",
       "      <td>1</td>\n",
       "      <td>-1</td>\n",
       "      <td>0</td>\n",
       "      <td>unknown</td>\n",
       "      <td>1</td>\n",
       "    </tr>\n",
       "  </tbody>\n",
       "</table>\n",
       "</div>"
      ],
      "text/plain": [
       "   id  age          job  marital  education default  balance housing loan  \\\n",
       "0   0   42   technician  married  secondary      no        7      no   no   \n",
       "1   1   38  blue-collar  married  secondary      no      514      no   no   \n",
       "2   2   36  blue-collar  married  secondary      no      602     yes   no   \n",
       "3   3   27      student   single  secondary      no       34     yes   no   \n",
       "4   4   26   technician  married  secondary      no      889     yes   no   \n",
       "\n",
       "    contact  day month  duration  campaign  pdays  previous poutcome  y  \n",
       "0  cellular   25   aug       117         3     -1         0  unknown  0  \n",
       "1   unknown   18   jun       185         1     -1         0  unknown  0  \n",
       "2   unknown   14   may       111         2     -1         0  unknown  0  \n",
       "3   unknown   28   may        10         2     -1         0  unknown  0  \n",
       "4  cellular    3   feb       902         1     -1         0  unknown  1  "
      ]
     },
     "execution_count": 4,
     "metadata": {},
     "output_type": "execute_result"
    }
   ],
   "source": [
    "train_data.head()"
   ]
  },
  {
   "cell_type": "code",
   "execution_count": 5,
   "id": "c7711562",
   "metadata": {
    "execution": {
     "iopub.execute_input": "2025-09-05T19:21:50.689951Z",
     "iopub.status.busy": "2025-09-05T19:21:50.689585Z",
     "iopub.status.idle": "2025-09-05T19:21:51.053632Z",
     "shell.execute_reply": "2025-09-05T19:21:51.052516Z"
    },
    "papermill": {
     "duration": 0.375669,
     "end_time": "2025-09-05T19:21:51.055358",
     "exception": false,
     "start_time": "2025-09-05T19:21:50.679689",
     "status": "completed"
    },
    "tags": []
   },
   "outputs": [
    {
     "name": "stdout",
     "output_type": "stream",
     "text": [
      "<class 'pandas.core.frame.DataFrame'>\n",
      "RangeIndex: 750000 entries, 0 to 749999\n",
      "Data columns (total 18 columns):\n",
      " #   Column     Non-Null Count   Dtype \n",
      "---  ------     --------------   ----- \n",
      " 0   id         750000 non-null  int64 \n",
      " 1   age        750000 non-null  int64 \n",
      " 2   job        750000 non-null  object\n",
      " 3   marital    750000 non-null  object\n",
      " 4   education  750000 non-null  object\n",
      " 5   default    750000 non-null  object\n",
      " 6   balance    750000 non-null  int64 \n",
      " 7   housing    750000 non-null  object\n",
      " 8   loan       750000 non-null  object\n",
      " 9   contact    750000 non-null  object\n",
      " 10  day        750000 non-null  int64 \n",
      " 11  month      750000 non-null  object\n",
      " 12  duration   750000 non-null  int64 \n",
      " 13  campaign   750000 non-null  int64 \n",
      " 14  pdays      750000 non-null  int64 \n",
      " 15  previous   750000 non-null  int64 \n",
      " 16  poutcome   750000 non-null  object\n",
      " 17  y          750000 non-null  int64 \n",
      "dtypes: int64(9), object(9)\n",
      "memory usage: 103.0+ MB\n"
     ]
    }
   ],
   "source": [
    "train_data.info()"
   ]
  },
  {
   "cell_type": "code",
   "execution_count": 6,
   "id": "ce366bdf",
   "metadata": {
    "execution": {
     "iopub.execute_input": "2025-09-05T19:21:51.074419Z",
     "iopub.status.busy": "2025-09-05T19:21:51.074110Z",
     "iopub.status.idle": "2025-09-05T19:21:51.152322Z",
     "shell.execute_reply": "2025-09-05T19:21:51.151205Z"
    },
    "papermill": {
     "duration": 0.089805,
     "end_time": "2025-09-05T19:21:51.154189",
     "exception": false,
     "start_time": "2025-09-05T19:21:51.064384",
     "status": "completed"
    },
    "tags": []
   },
   "outputs": [],
   "source": [
    "train_data.drop(\"id\", axis=1, inplace=True)"
   ]
  },
  {
   "cell_type": "code",
   "execution_count": 7,
   "id": "acc34c98",
   "metadata": {
    "execution": {
     "iopub.execute_input": "2025-09-05T19:21:51.172681Z",
     "iopub.status.busy": "2025-09-05T19:21:51.172343Z",
     "iopub.status.idle": "2025-09-05T19:21:51.177062Z",
     "shell.execute_reply": "2025-09-05T19:21:51.176198Z"
    },
    "papermill": {
     "duration": 0.015574,
     "end_time": "2025-09-05T19:21:51.178461",
     "exception": false,
     "start_time": "2025-09-05T19:21:51.162887",
     "status": "completed"
    },
    "tags": []
   },
   "outputs": [],
   "source": [
    "test_data_id = test_data[\"id\"]\n"
   ]
  },
  {
   "cell_type": "code",
   "execution_count": 8,
   "id": "ce7ca9b5",
   "metadata": {
    "execution": {
     "iopub.execute_input": "2025-09-05T19:21:51.197335Z",
     "iopub.status.busy": "2025-09-05T19:21:51.197024Z",
     "iopub.status.idle": "2025-09-05T19:21:51.220875Z",
     "shell.execute_reply": "2025-09-05T19:21:51.219807Z"
    },
    "papermill": {
     "duration": 0.034922,
     "end_time": "2025-09-05T19:21:51.222482",
     "exception": false,
     "start_time": "2025-09-05T19:21:51.187560",
     "status": "completed"
    },
    "tags": []
   },
   "outputs": [],
   "source": [
    "test_data.drop(\"id\", axis=1, inplace=True)"
   ]
  },
  {
   "cell_type": "code",
   "execution_count": 9,
   "id": "35162725",
   "metadata": {
    "execution": {
     "iopub.execute_input": "2025-09-05T19:21:51.241583Z",
     "iopub.status.busy": "2025-09-05T19:21:51.240806Z",
     "iopub.status.idle": "2025-09-05T19:21:51.464382Z",
     "shell.execute_reply": "2025-09-05T19:21:51.463436Z"
    },
    "papermill": {
     "duration": 0.234677,
     "end_time": "2025-09-05T19:21:51.465982",
     "exception": false,
     "start_time": "2025-09-05T19:21:51.231305",
     "status": "completed"
    },
    "tags": []
   },
   "outputs": [
    {
     "data": {
      "text/html": [
       "<div>\n",
       "<style scoped>\n",
       "    .dataframe tbody tr th:only-of-type {\n",
       "        vertical-align: middle;\n",
       "    }\n",
       "\n",
       "    .dataframe tbody tr th {\n",
       "        vertical-align: top;\n",
       "    }\n",
       "\n",
       "    .dataframe thead th {\n",
       "        text-align: right;\n",
       "    }\n",
       "</style>\n",
       "<table border=\"1\" class=\"dataframe\">\n",
       "  <thead>\n",
       "    <tr style=\"text-align: right;\">\n",
       "      <th></th>\n",
       "      <th>age</th>\n",
       "      <th>balance</th>\n",
       "      <th>day</th>\n",
       "      <th>duration</th>\n",
       "      <th>campaign</th>\n",
       "      <th>pdays</th>\n",
       "      <th>previous</th>\n",
       "      <th>y</th>\n",
       "    </tr>\n",
       "  </thead>\n",
       "  <tbody>\n",
       "    <tr>\n",
       "      <th>count</th>\n",
       "      <td>750000.000000</td>\n",
       "      <td>750000.000000</td>\n",
       "      <td>750000.000000</td>\n",
       "      <td>750000.000000</td>\n",
       "      <td>750000.000000</td>\n",
       "      <td>750000.000000</td>\n",
       "      <td>750000.000000</td>\n",
       "      <td>750000.000000</td>\n",
       "    </tr>\n",
       "    <tr>\n",
       "      <th>mean</th>\n",
       "      <td>40.926395</td>\n",
       "      <td>1204.067397</td>\n",
       "      <td>16.117209</td>\n",
       "      <td>256.229144</td>\n",
       "      <td>2.577008</td>\n",
       "      <td>22.412733</td>\n",
       "      <td>0.298545</td>\n",
       "      <td>0.120651</td>\n",
       "    </tr>\n",
       "    <tr>\n",
       "      <th>std</th>\n",
       "      <td>10.098829</td>\n",
       "      <td>2836.096759</td>\n",
       "      <td>8.250832</td>\n",
       "      <td>272.555662</td>\n",
       "      <td>2.718514</td>\n",
       "      <td>77.319998</td>\n",
       "      <td>1.335926</td>\n",
       "      <td>0.325721</td>\n",
       "    </tr>\n",
       "    <tr>\n",
       "      <th>min</th>\n",
       "      <td>18.000000</td>\n",
       "      <td>-8019.000000</td>\n",
       "      <td>1.000000</td>\n",
       "      <td>1.000000</td>\n",
       "      <td>1.000000</td>\n",
       "      <td>-1.000000</td>\n",
       "      <td>0.000000</td>\n",
       "      <td>0.000000</td>\n",
       "    </tr>\n",
       "    <tr>\n",
       "      <th>25%</th>\n",
       "      <td>33.000000</td>\n",
       "      <td>0.000000</td>\n",
       "      <td>9.000000</td>\n",
       "      <td>91.000000</td>\n",
       "      <td>1.000000</td>\n",
       "      <td>-1.000000</td>\n",
       "      <td>0.000000</td>\n",
       "      <td>0.000000</td>\n",
       "    </tr>\n",
       "    <tr>\n",
       "      <th>50%</th>\n",
       "      <td>39.000000</td>\n",
       "      <td>634.000000</td>\n",
       "      <td>17.000000</td>\n",
       "      <td>133.000000</td>\n",
       "      <td>2.000000</td>\n",
       "      <td>-1.000000</td>\n",
       "      <td>0.000000</td>\n",
       "      <td>0.000000</td>\n",
       "    </tr>\n",
       "    <tr>\n",
       "      <th>75%</th>\n",
       "      <td>48.000000</td>\n",
       "      <td>1390.000000</td>\n",
       "      <td>21.000000</td>\n",
       "      <td>361.000000</td>\n",
       "      <td>3.000000</td>\n",
       "      <td>-1.000000</td>\n",
       "      <td>0.000000</td>\n",
       "      <td>0.000000</td>\n",
       "    </tr>\n",
       "    <tr>\n",
       "      <th>max</th>\n",
       "      <td>95.000000</td>\n",
       "      <td>99717.000000</td>\n",
       "      <td>31.000000</td>\n",
       "      <td>4918.000000</td>\n",
       "      <td>63.000000</td>\n",
       "      <td>871.000000</td>\n",
       "      <td>200.000000</td>\n",
       "      <td>1.000000</td>\n",
       "    </tr>\n",
       "  </tbody>\n",
       "</table>\n",
       "</div>"
      ],
      "text/plain": [
       "                 age        balance            day       duration  \\\n",
       "count  750000.000000  750000.000000  750000.000000  750000.000000   \n",
       "mean       40.926395    1204.067397      16.117209     256.229144   \n",
       "std        10.098829    2836.096759       8.250832     272.555662   \n",
       "min        18.000000   -8019.000000       1.000000       1.000000   \n",
       "25%        33.000000       0.000000       9.000000      91.000000   \n",
       "50%        39.000000     634.000000      17.000000     133.000000   \n",
       "75%        48.000000    1390.000000      21.000000     361.000000   \n",
       "max        95.000000   99717.000000      31.000000    4918.000000   \n",
       "\n",
       "            campaign          pdays       previous              y  \n",
       "count  750000.000000  750000.000000  750000.000000  750000.000000  \n",
       "mean        2.577008      22.412733       0.298545       0.120651  \n",
       "std         2.718514      77.319998       1.335926       0.325721  \n",
       "min         1.000000      -1.000000       0.000000       0.000000  \n",
       "25%         1.000000      -1.000000       0.000000       0.000000  \n",
       "50%         2.000000      -1.000000       0.000000       0.000000  \n",
       "75%         3.000000      -1.000000       0.000000       0.000000  \n",
       "max        63.000000     871.000000     200.000000       1.000000  "
      ]
     },
     "execution_count": 9,
     "metadata": {},
     "output_type": "execute_result"
    }
   ],
   "source": [
    "train_data.describe()"
   ]
  },
  {
   "cell_type": "code",
   "execution_count": 10,
   "id": "5dd28e07",
   "metadata": {
    "execution": {
     "iopub.execute_input": "2025-09-05T19:21:51.486483Z",
     "iopub.status.busy": "2025-09-05T19:21:51.485662Z",
     "iopub.status.idle": "2025-09-05T19:21:52.445395Z",
     "shell.execute_reply": "2025-09-05T19:21:52.444292Z"
    },
    "papermill": {
     "duration": 0.972022,
     "end_time": "2025-09-05T19:21:52.447322",
     "exception": false,
     "start_time": "2025-09-05T19:21:51.475300",
     "status": "completed"
    },
    "tags": []
   },
   "outputs": [
    {
     "data": {
      "text/html": [
       "<div>\n",
       "<style scoped>\n",
       "    .dataframe tbody tr th:only-of-type {\n",
       "        vertical-align: middle;\n",
       "    }\n",
       "\n",
       "    .dataframe tbody tr th {\n",
       "        vertical-align: top;\n",
       "    }\n",
       "\n",
       "    .dataframe thead th {\n",
       "        text-align: right;\n",
       "    }\n",
       "</style>\n",
       "<table border=\"1\" class=\"dataframe\">\n",
       "  <thead>\n",
       "    <tr style=\"text-align: right;\">\n",
       "      <th></th>\n",
       "      <th>job</th>\n",
       "      <th>marital</th>\n",
       "      <th>education</th>\n",
       "      <th>default</th>\n",
       "      <th>housing</th>\n",
       "      <th>loan</th>\n",
       "      <th>contact</th>\n",
       "      <th>month</th>\n",
       "      <th>poutcome</th>\n",
       "    </tr>\n",
       "  </thead>\n",
       "  <tbody>\n",
       "    <tr>\n",
       "      <th>count</th>\n",
       "      <td>750000</td>\n",
       "      <td>750000</td>\n",
       "      <td>750000</td>\n",
       "      <td>750000</td>\n",
       "      <td>750000</td>\n",
       "      <td>750000</td>\n",
       "      <td>750000</td>\n",
       "      <td>750000</td>\n",
       "      <td>750000</td>\n",
       "    </tr>\n",
       "    <tr>\n",
       "      <th>unique</th>\n",
       "      <td>12</td>\n",
       "      <td>3</td>\n",
       "      <td>4</td>\n",
       "      <td>2</td>\n",
       "      <td>2</td>\n",
       "      <td>2</td>\n",
       "      <td>3</td>\n",
       "      <td>12</td>\n",
       "      <td>4</td>\n",
       "    </tr>\n",
       "    <tr>\n",
       "      <th>top</th>\n",
       "      <td>management</td>\n",
       "      <td>married</td>\n",
       "      <td>secondary</td>\n",
       "      <td>no</td>\n",
       "      <td>yes</td>\n",
       "      <td>no</td>\n",
       "      <td>cellular</td>\n",
       "      <td>may</td>\n",
       "      <td>unknown</td>\n",
       "    </tr>\n",
       "    <tr>\n",
       "      <th>freq</th>\n",
       "      <td>175541</td>\n",
       "      <td>480759</td>\n",
       "      <td>401683</td>\n",
       "      <td>737151</td>\n",
       "      <td>411288</td>\n",
       "      <td>645023</td>\n",
       "      <td>486655</td>\n",
       "      <td>228411</td>\n",
       "      <td>672450</td>\n",
       "    </tr>\n",
       "  </tbody>\n",
       "</table>\n",
       "</div>"
      ],
      "text/plain": [
       "               job  marital  education default housing    loan   contact  \\\n",
       "count       750000   750000     750000  750000  750000  750000    750000   \n",
       "unique          12        3          4       2       2       2         3   \n",
       "top     management  married  secondary      no     yes      no  cellular   \n",
       "freq        175541   480759     401683  737151  411288  645023    486655   \n",
       "\n",
       "         month poutcome  \n",
       "count   750000   750000  \n",
       "unique      12        4  \n",
       "top        may  unknown  \n",
       "freq    228411   672450  "
      ]
     },
     "execution_count": 10,
     "metadata": {},
     "output_type": "execute_result"
    }
   ],
   "source": [
    "train_data.describe(include=\"object\")"
   ]
  },
  {
   "cell_type": "code",
   "execution_count": 11,
   "id": "81681ff9",
   "metadata": {
    "execution": {
     "iopub.execute_input": "2025-09-05T19:21:52.466753Z",
     "iopub.status.busy": "2025-09-05T19:21:52.466434Z",
     "iopub.status.idle": "2025-09-05T19:21:52.812271Z",
     "shell.execute_reply": "2025-09-05T19:21:52.811323Z"
    },
    "papermill": {
     "duration": 0.357864,
     "end_time": "2025-09-05T19:21:52.814557",
     "exception": false,
     "start_time": "2025-09-05T19:21:52.456693",
     "status": "completed"
    },
    "tags": []
   },
   "outputs": [
    {
     "data": {
      "text/plain": [
       "age          0\n",
       "job          0\n",
       "marital      0\n",
       "education    0\n",
       "default      0\n",
       "balance      0\n",
       "housing      0\n",
       "loan         0\n",
       "contact      0\n",
       "day          0\n",
       "month        0\n",
       "duration     0\n",
       "campaign     0\n",
       "pdays        0\n",
       "previous     0\n",
       "poutcome     0\n",
       "y            0\n",
       "dtype: int64"
      ]
     },
     "execution_count": 11,
     "metadata": {},
     "output_type": "execute_result"
    }
   ],
   "source": [
    "train_data.isnull().sum()\n",
    "# There is no missing values"
   ]
  },
  {
   "cell_type": "code",
   "execution_count": 12,
   "id": "2d28ce2d",
   "metadata": {
    "execution": {
     "iopub.execute_input": "2025-09-05T19:21:52.835058Z",
     "iopub.status.busy": "2025-09-05T19:21:52.834750Z",
     "iopub.status.idle": "2025-09-05T19:21:53.448556Z",
     "shell.execute_reply": "2025-09-05T19:21:53.447424Z"
    },
    "papermill": {
     "duration": 0.625604,
     "end_time": "2025-09-05T19:21:53.450149",
     "exception": false,
     "start_time": "2025-09-05T19:21:52.824545",
     "status": "completed"
    },
    "tags": []
   },
   "outputs": [
    {
     "data": {
      "text/plain": [
       "0"
      ]
     },
     "execution_count": 12,
     "metadata": {},
     "output_type": "execute_result"
    }
   ],
   "source": [
    "train_data.duplicated().sum()"
   ]
  },
  {
   "cell_type": "code",
   "execution_count": 13,
   "id": "b42b75a3",
   "metadata": {
    "execution": {
     "iopub.execute_input": "2025-09-05T19:21:53.469956Z",
     "iopub.status.busy": "2025-09-05T19:21:53.469246Z",
     "iopub.status.idle": "2025-09-05T19:21:53.483983Z",
     "shell.execute_reply": "2025-09-05T19:21:53.482958Z"
    },
    "papermill": {
     "duration": 0.026186,
     "end_time": "2025-09-05T19:21:53.485595",
     "exception": false,
     "start_time": "2025-09-05T19:21:53.459409",
     "status": "completed"
    },
    "tags": []
   },
   "outputs": [
    {
     "data": {
      "text/plain": [
       "y\n",
       "0    0.879349\n",
       "1    0.120651\n",
       "Name: proportion, dtype: float64"
      ]
     },
     "execution_count": 13,
     "metadata": {},
     "output_type": "execute_result"
    }
   ],
   "source": [
    "train_data[\"y\"].value_counts(normalize=True)"
   ]
  },
  {
   "cell_type": "code",
   "execution_count": 14,
   "id": "cf9ae22c",
   "metadata": {
    "execution": {
     "iopub.execute_input": "2025-09-05T19:21:53.505686Z",
     "iopub.status.busy": "2025-09-05T19:21:53.505207Z",
     "iopub.status.idle": "2025-09-05T19:21:53.907738Z",
     "shell.execute_reply": "2025-09-05T19:21:53.906807Z"
    },
    "papermill": {
     "duration": 0.414317,
     "end_time": "2025-09-05T19:21:53.909404",
     "exception": false,
     "start_time": "2025-09-05T19:21:53.495087",
     "status": "completed"
    },
    "tags": []
   },
   "outputs": [
    {
     "data": {
      "text/plain": [
       "<Axes: xlabel='y', ylabel='count'>"
      ]
     },
     "execution_count": 14,
     "metadata": {},
     "output_type": "execute_result"
    },
    {
     "data": {
      "image/png": "[encoded data removed]",
      "text/plain": [
       "<Figure size 640x480 with 1 Axes>"
      ]
     },
     "metadata": {},
     "output_type": "display_data"
    }
   ],
   "source": [
    "sns.countplot(x=\"y\", data=train_data)"
   ]
  },
  {
   "cell_type": "markdown",
   "id": "33703a2e",
   "metadata": {
    "papermill": {
     "duration": 0.009356,
     "end_time": "2025-09-05T19:21:53.928584",
     "exception": false,
     "start_time": "2025-09-05T19:21:53.919228",
     "status": "completed"
    },
    "tags": []
   },
   "source": [
    "There is many of customers don't describe in deposit"
   ]
  },
  {
   "cell_type": "code",
   "execution_count": 15,
   "id": "67c15fab",
   "metadata": {
    "execution": {
     "iopub.execute_input": "2025-09-05T19:21:54.015085Z",
     "iopub.status.busy": "2025-09-05T19:21:54.014772Z",
     "iopub.status.idle": "2025-09-05T19:21:54.094350Z",
     "shell.execute_reply": "2025-09-05T19:21:54.093403Z"
    },
    "papermill": {
     "duration": 0.092431,
     "end_time": "2025-09-05T19:21:54.096161",
     "exception": false,
     "start_time": "2025-09-05T19:21:54.003730",
     "status": "completed"
    },
    "tags": []
   },
   "outputs": [],
   "source": [
    "numeric_data = train_data.select_dtypes(\"int64\")\n",
    "category_data = train_data.select_dtypes(\"object\")"
   ]
  },
  {
   "cell_type": "code",
   "execution_count": 16,
   "id": "d4b5db7a",
   "metadata": {
    "execution": {
     "iopub.execute_input": "2025-09-05T19:21:54.117340Z",
     "iopub.status.busy": "2025-09-05T19:21:54.117015Z",
     "iopub.status.idle": "2025-09-05T19:21:54.642564Z",
     "shell.execute_reply": "2025-09-05T19:21:54.640979Z"
    },
    "papermill": {
     "duration": 0.538234,
     "end_time": "2025-09-05T19:21:54.644318",
     "exception": false,
     "start_time": "2025-09-05T19:21:54.106084",
     "status": "completed"
    },
    "tags": []
   },
   "outputs": [
    {
     "name": "stdout",
     "output_type": "stream",
     "text": [
      "job\n",
      "management       175541\n",
      "blue-collar      170498\n",
      "technician       138107\n",
      "admin.            81492\n",
      "services          64209\n",
      "retired           35185\n",
      "self-employed     19020\n",
      "entrepreneur      17718\n",
      "unemployed        17634\n",
      "housemaid         15912\n",
      "student           11767\n",
      "unknown            2917\n",
      "Name: count, dtype: int64\n",
      "#####################################\n",
      "marital\n",
      "married     480759\n",
      "single      194834\n",
      "divorced     74407\n",
      "Name: count, dtype: int64\n",
      "#####################################\n",
      "education\n",
      "secondary    401683\n",
      "tertiary     227508\n",
      "primary       99510\n",
      "unknown       21299\n",
      "Name: count, dtype: int64\n",
      "#####################################\n",
      "default\n",
      "no     737151\n",
      "yes     12849\n",
      "Name: count, dtype: int64\n",
      "#####################################\n",
      "housing\n",
      "yes    411288\n",
      "no     338712\n",
      "Name: count, dtype: int64\n",
      "#####################################\n",
      "loan\n",
      "no     645023\n",
      "yes    104977\n",
      "Name: count, dtype: int64\n",
      "#####################################\n",
      "contact\n",
      "cellular     486655\n",
      "unknown      231627\n",
      "telephone     31718\n",
      "Name: count, dtype: int64\n",
      "#####################################\n",
      "month\n",
      "may    228411\n",
      "aug    128859\n",
      "jul    110647\n",
      "jun     93670\n",
      "nov     66062\n",
      "apr     41319\n",
      "feb     37611\n",
      "jan     18937\n",
      "oct      9204\n",
      "sep      7409\n",
      "mar      5802\n",
      "dec      2069\n",
      "Name: count, dtype: int64\n",
      "#####################################\n",
      "poutcome\n",
      "unknown    672450\n",
      "failure     45115\n",
      "success     17691\n",
      "other       14744\n",
      "Name: count, dtype: int64\n",
      "#####################################\n"
     ]
    }
   ],
   "source": [
    "for col in category_data.columns:\n",
    "    # print(col+\" Feature\")\n",
    "    print(train_data[col].value_counts())\n",
    "    print(\"#####################################\")"
   ]
  },
  {
   "cell_type": "code",
   "execution_count": 17,
   "id": "221c995c",
   "metadata": {
    "execution": {
     "iopub.execute_input": "2025-09-05T19:21:54.665536Z",
     "iopub.status.busy": "2025-09-05T19:21:54.665202Z",
     "iopub.status.idle": "2025-09-05T19:21:54.678872Z",
     "shell.execute_reply": "2025-09-05T19:21:54.677772Z"
    },
    "papermill": {
     "duration": 0.026401,
     "end_time": "2025-09-05T19:21:54.680676",
     "exception": false,
     "start_time": "2025-09-05T19:21:54.654275",
     "status": "completed"
    },
    "tags": []
   },
   "outputs": [
    {
     "data": {
      "text/html": [
       "<div>\n",
       "<style scoped>\n",
       "    .dataframe tbody tr th:only-of-type {\n",
       "        vertical-align: middle;\n",
       "    }\n",
       "\n",
       "    .dataframe tbody tr th {\n",
       "        vertical-align: top;\n",
       "    }\n",
       "\n",
       "    .dataframe thead th {\n",
       "        text-align: right;\n",
       "    }\n",
       "</style>\n",
       "<table border=\"1\" class=\"dataframe\">\n",
       "  <thead>\n",
       "    <tr style=\"text-align: right;\">\n",
       "      <th></th>\n",
       "      <th>age</th>\n",
       "      <th>balance</th>\n",
       "      <th>day</th>\n",
       "      <th>duration</th>\n",
       "      <th>campaign</th>\n",
       "      <th>pdays</th>\n",
       "      <th>previous</th>\n",
       "      <th>y</th>\n",
       "    </tr>\n",
       "  </thead>\n",
       "  <tbody>\n",
       "    <tr>\n",
       "      <th>0</th>\n",
       "      <td>42</td>\n",
       "      <td>7</td>\n",
       "      <td>25</td>\n",
       "      <td>117</td>\n",
       "      <td>3</td>\n",
       "      <td>-1</td>\n",
       "      <td>0</td>\n",
       "      <td>0</td>\n",
       "    </tr>\n",
       "    <tr>\n",
       "      <th>1</th>\n",
       "      <td>38</td>\n",
       "      <td>514</td>\n",
       "      <td>18</td>\n",
       "      <td>185</td>\n",
       "      <td>1</td>\n",
       "      <td>-1</td>\n",
       "      <td>0</td>\n",
       "      <td>0</td>\n",
       "    </tr>\n",
       "    <tr>\n",
       "      <th>2</th>\n",
       "      <td>36</td>\n",
       "      <td>602</td>\n",
       "      <td>14</td>\n",
       "      <td>111</td>\n",
       "      <td>2</td>\n",
       "      <td>-1</td>\n",
       "      <td>0</td>\n",
       "      <td>0</td>\n",
       "    </tr>\n",
       "    <tr>\n",
       "      <th>3</th>\n",
       "      <td>27</td>\n",
       "      <td>34</td>\n",
       "      <td>28</td>\n",
       "      <td>10</td>\n",
       "      <td>2</td>\n",
       "      <td>-1</td>\n",
       "      <td>0</td>\n",
       "      <td>0</td>\n",
       "    </tr>\n",
       "    <tr>\n",
       "      <th>4</th>\n",
       "      <td>26</td>\n",
       "      <td>889</td>\n",
       "      <td>3</td>\n",
       "      <td>902</td>\n",
       "      <td>1</td>\n",
       "      <td>-1</td>\n",
       "      <td>0</td>\n",
       "      <td>1</td>\n",
       "    </tr>\n",
       "    <tr>\n",
       "      <th>...</th>\n",
       "      <td>...</td>\n",
       "      <td>...</td>\n",
       "      <td>...</td>\n",
       "      <td>...</td>\n",
       "      <td>...</td>\n",
       "      <td>...</td>\n",
       "      <td>...</td>\n",
       "      <td>...</td>\n",
       "    </tr>\n",
       "    <tr>\n",
       "      <th>749995</th>\n",
       "      <td>29</td>\n",
       "      <td>1282</td>\n",
       "      <td>4</td>\n",
       "      <td>1006</td>\n",
       "      <td>2</td>\n",
       "      <td>-1</td>\n",
       "      <td>0</td>\n",
       "      <td>1</td>\n",
       "    </tr>\n",
       "    <tr>\n",
       "      <th>749996</th>\n",
       "      <td>69</td>\n",
       "      <td>631</td>\n",
       "      <td>19</td>\n",
       "      <td>87</td>\n",
       "      <td>1</td>\n",
       "      <td>-1</td>\n",
       "      <td>0</td>\n",
       "      <td>0</td>\n",
       "    </tr>\n",
       "    <tr>\n",
       "      <th>749997</th>\n",
       "      <td>50</td>\n",
       "      <td>217</td>\n",
       "      <td>17</td>\n",
       "      <td>113</td>\n",
       "      <td>1</td>\n",
       "      <td>-1</td>\n",
       "      <td>0</td>\n",
       "      <td>0</td>\n",
       "    </tr>\n",
       "    <tr>\n",
       "      <th>749998</th>\n",
       "      <td>32</td>\n",
       "      <td>-274</td>\n",
       "      <td>26</td>\n",
       "      <td>108</td>\n",
       "      <td>6</td>\n",
       "      <td>-1</td>\n",
       "      <td>0</td>\n",
       "      <td>0</td>\n",
       "    </tr>\n",
       "    <tr>\n",
       "      <th>749999</th>\n",
       "      <td>42</td>\n",
       "      <td>1559</td>\n",
       "      <td>4</td>\n",
       "      <td>143</td>\n",
       "      <td>1</td>\n",
       "      <td>1</td>\n",
       "      <td>7</td>\n",
       "      <td>0</td>\n",
       "    </tr>\n",
       "  </tbody>\n",
       "</table>\n",
       "<p>750000 rows × 8 columns</p>\n",
       "</div>"
      ],
      "text/plain": [
       "        age  balance  day  duration  campaign  pdays  previous  y\n",
       "0        42        7   25       117         3     -1         0  0\n",
       "1        38      514   18       185         1     -1         0  0\n",
       "2        36      602   14       111         2     -1         0  0\n",
       "3        27       34   28        10         2     -1         0  0\n",
       "4        26      889    3       902         1     -1         0  1\n",
       "...     ...      ...  ...       ...       ...    ...       ... ..\n",
       "749995   29     1282    4      1006         2     -1         0  1\n",
       "749996   69      631   19        87         1     -1         0  0\n",
       "749997   50      217   17       113         1     -1         0  0\n",
       "749998   32     -274   26       108         6     -1         0  0\n",
       "749999   42     1559    4       143         1      1         7  0\n",
       "\n",
       "[750000 rows x 8 columns]"
      ]
     },
     "execution_count": 17,
     "metadata": {},
     "output_type": "execute_result"
    }
   ],
   "source": [
    "numeric_data"
   ]
  },
  {
   "cell_type": "code",
   "execution_count": 18,
   "id": "e9fe656d",
   "metadata": {
    "execution": {
     "iopub.execute_input": "2025-09-05T19:21:54.703777Z",
     "iopub.status.busy": "2025-09-05T19:21:54.703412Z",
     "iopub.status.idle": "2025-09-05T19:21:54.707866Z",
     "shell.execute_reply": "2025-09-05T19:21:54.706909Z"
    },
    "papermill": {
     "duration": 0.017636,
     "end_time": "2025-09-05T19:21:54.709488",
     "exception": false,
     "start_time": "2025-09-05T19:21:54.691852",
     "status": "completed"
    },
    "tags": []
   },
   "outputs": [],
   "source": [
    "# sns.pairplot(numeric_data)"
   ]
  },
  {
   "cell_type": "code",
   "execution_count": 19,
   "id": "81e806c9",
   "metadata": {
    "execution": {
     "iopub.execute_input": "2025-09-05T19:21:54.733993Z",
     "iopub.status.busy": "2025-09-05T19:21:54.733663Z",
     "iopub.status.idle": "2025-09-05T19:21:54.740698Z",
     "shell.execute_reply": "2025-09-05T19:21:54.739473Z"
    },
    "papermill": {
     "duration": 0.02076,
     "end_time": "2025-09-05T19:21:54.742565",
     "exception": false,
     "start_time": "2025-09-05T19:21:54.721805",
     "status": "completed"
    },
    "tags": []
   },
   "outputs": [],
   "source": [
    "def visualize_hist_box(data, col_name):\n",
    "    plt.figure(figsize=(15, 5))\n",
    "    \n",
    "    plt.subplot(1, 2, 1)\n",
    "    sns.histplot(x=col_name, data=data, bins=20, kde=True, color=\"Green\")\n",
    "\n",
    "    plt.subplot(1, 2, 2)\n",
    "    sns.boxplot(x=col_name, data=data, color=\"Blue\")\n",
    "\n",
    "    plt.show()\n"
   ]
  },
  {
   "cell_type": "code",
   "execution_count": 20,
   "id": "aa722a01",
   "metadata": {
    "execution": {
     "iopub.execute_input": "2025-09-05T19:21:54.765273Z",
     "iopub.status.busy": "2025-09-05T19:21:54.764789Z",
     "iopub.status.idle": "2025-09-05T19:21:58.339173Z",
     "shell.execute_reply": "2025-09-05T19:21:58.338208Z"
    },
    "papermill": {
     "duration": 3.587462,
     "end_time": "2025-09-05T19:21:58.341025",
     "exception": false,
     "start_time": "2025-09-05T19:21:54.753563",
     "status": "completed"
    },
    "tags": []
   },
   "outputs": [
    {
     "name": "stderr",
     "output_type": "stream",
     "text": [
      "/usr/local/lib/python3.11/dist-packages/seaborn/_oldcore.py:1119: FutureWarning: use_inf_as_na option is deprecated and will be removed in a future version. Convert inf values to NaN before operating instead.\n",
      "  with pd.option_context('mode.use_inf_as_na', True):\n"
     ]
    },
    {
     "data": {
      "image/png": "[encoded data removed]",
      "text/plain": [
       "<Figure size 1500x500 with 2 Axes>"
      ]
     },
     "metadata": {},
     "output_type": "display_data"
    }
   ],
   "source": [
    "visualize_hist_box(numeric_data, \"age\")"
   ]
  },
  {
   "cell_type": "code",
   "execution_count": 21,
   "id": "077e16bf",
   "metadata": {
    "execution": {
     "iopub.execute_input": "2025-09-05T19:21:58.364600Z",
     "iopub.status.busy": "2025-09-05T19:21:58.364256Z",
     "iopub.status.idle": "2025-09-05T19:22:01.973313Z",
     "shell.execute_reply": "2025-09-05T19:22:01.972360Z"
    },
    "papermill": {
     "duration": 3.622724,
     "end_time": "2025-09-05T19:22:01.974950",
     "exception": false,
     "start_time": "2025-09-05T19:21:58.352226",
     "status": "completed"
    },
    "tags": []
   },
   "outputs": [
    {
     "name": "stderr",
     "output_type": "stream",
     "text": [
      "/usr/local/lib/python3.11/dist-packages/seaborn/_oldcore.py:1119: FutureWarning: use_inf_as_na option is deprecated and will be removed in a future version. Convert inf values to NaN before operating instead.\n",
      "  with pd.option_context('mode.use_inf_as_na', True):\n"
     ]
    },
    {
     "data": {
      "image/png": "[encoded data removed]",
      "text/plain": [
       "<Figure size 1500x500 with 2 Axes>"
      ]
     },
     "metadata": {},
     "output_type": "display_data"
    }
   ],
   "source": [
    "visualize_hist_box(numeric_data, \"balance\")"
   ]
  },
  {
   "cell_type": "markdown",
   "id": "7486fa71",
   "metadata": {
    "papermill": {
     "duration": 0.011381,
     "end_time": "2025-09-05T19:22:01.998165",
     "exception": false,
     "start_time": "2025-09-05T19:22:01.986784",
     "status": "completed"
    },
    "tags": []
   },
   "source": [
    "1. There are many outliers here we can use RobustScaler with them"
   ]
  },
  {
   "cell_type": "code",
   "execution_count": 22,
   "id": "f58c0679",
   "metadata": {
    "execution": {
     "iopub.execute_input": "2025-09-05T19:22:02.023756Z",
     "iopub.status.busy": "2025-09-05T19:22:02.023400Z",
     "iopub.status.idle": "2025-09-05T19:22:05.169686Z",
     "shell.execute_reply": "2025-09-05T19:22:05.168674Z"
    },
    "papermill": {
     "duration": 3.161838,
     "end_time": "2025-09-05T19:22:05.171680",
     "exception": false,
     "start_time": "2025-09-05T19:22:02.009842",
     "status": "completed"
    },
    "tags": []
   },
   "outputs": [
    {
     "name": "stderr",
     "output_type": "stream",
     "text": [
      "/usr/local/lib/python3.11/dist-packages/seaborn/_oldcore.py:1119: FutureWarning: use_inf_as_na option is deprecated and will be removed in a future version. Convert inf values to NaN before operating instead.\n",
      "  with pd.option_context('mode.use_inf_as_na', True):\n"
     ]
    },
    {
     "data": {
      "image/png": "[encoded data removed]",
      "text/plain": [
       "<Figure size 1500x500 with 2 Axes>"
      ]
     },
     "metadata": {},
     "output_type": "display_data"
    }
   ],
   "source": [
    "visualize_hist_box(numeric_data, \"day\")\n",
    "# آخر تواصل كان يوم اي من الشهر."
   ]
  },
  {
   "cell_type": "code",
   "execution_count": 23,
   "id": "c3bde8b7",
   "metadata": {
    "execution": {
     "iopub.execute_input": "2025-09-05T19:22:05.197737Z",
     "iopub.status.busy": "2025-09-05T19:22:05.197374Z",
     "iopub.status.idle": "2025-09-05T19:22:08.701457Z",
     "shell.execute_reply": "2025-09-05T19:22:08.700274Z"
    },
    "papermill": {
     "duration": 3.519178,
     "end_time": "2025-09-05T19:22:08.703423",
     "exception": false,
     "start_time": "2025-09-05T19:22:05.184245",
     "status": "completed"
    },
    "tags": []
   },
   "outputs": [
    {
     "name": "stderr",
     "output_type": "stream",
     "text": [
      "/usr/local/lib/python3.11/dist-packages/seaborn/_oldcore.py:1119: FutureWarning: use_inf_as_na option is deprecated and will be removed in a future version. Convert inf values to NaN before operating instead.\n",
      "  with pd.option_context('mode.use_inf_as_na', True):\n"
     ]
    },
    {
     "data": {
      "image/png": "[encoded data removed]",
      "text/plain": [
       "<Figure size 1500x500 with 2 Axes>"
      ]
     },
     "metadata": {},
     "output_type": "display_data"
    }
   ],
   "source": [
    "visualize_hist_box(numeric_data, \"duration\")\n",
    "# This is important Feature can make dataleakage target\n",
    "# مدة المكالمة الأخيرة (بالثواني)."
   ]
  },
  {
   "cell_type": "code",
   "execution_count": 24,
   "id": "58c64434",
   "metadata": {
    "execution": {
     "iopub.execute_input": "2025-09-05T19:22:08.731243Z",
     "iopub.status.busy": "2025-09-05T19:22:08.730917Z",
     "iopub.status.idle": "2025-09-05T19:22:12.265871Z",
     "shell.execute_reply": "2025-09-05T19:22:12.264878Z"
    },
    "papermill": {
     "duration": 3.550954,
     "end_time": "2025-09-05T19:22:12.267882",
     "exception": false,
     "start_time": "2025-09-05T19:22:08.716928",
     "status": "completed"
    },
    "tags": []
   },
   "outputs": [
    {
     "name": "stderr",
     "output_type": "stream",
     "text": [
      "/usr/local/lib/python3.11/dist-packages/seaborn/_oldcore.py:1119: FutureWarning: use_inf_as_na option is deprecated and will be removed in a future version. Convert inf values to NaN before operating instead.\n",
      "  with pd.option_context('mode.use_inf_as_na', True):\n"
     ]
    },
    {
     "data": {
      "image/png": "[encoded data removed]",
      "text/plain": [
       "<Figure size 1500x500 with 2 Axes>"
      ]
     },
     "metadata": {},
     "output_type": "display_data"
    }
   ],
   "source": [
    "visualize_hist_box(numeric_data, \"campaign\")\n",
    "# عدد المرات اللي تواصلت فيها الحملة مع العميل."
   ]
  },
  {
   "cell_type": "code",
   "execution_count": 25,
   "id": "85ad2df0",
   "metadata": {
    "execution": {
     "iopub.execute_input": "2025-09-05T19:22:12.296517Z",
     "iopub.status.busy": "2025-09-05T19:22:12.296177Z",
     "iopub.status.idle": "2025-09-05T19:22:15.865097Z",
     "shell.execute_reply": "2025-09-05T19:22:15.864043Z"
    },
    "papermill": {
     "duration": 3.585283,
     "end_time": "2025-09-05T19:22:15.866851",
     "exception": false,
     "start_time": "2025-09-05T19:22:12.281568",
     "status": "completed"
    },
    "tags": []
   },
   "outputs": [
    {
     "name": "stderr",
     "output_type": "stream",
     "text": [
      "/usr/local/lib/python3.11/dist-packages/seaborn/_oldcore.py:1119: FutureWarning: use_inf_as_na option is deprecated and will be removed in a future version. Convert inf values to NaN before operating instead.\n",
      "  with pd.option_context('mode.use_inf_as_na', True):\n"
     ]
    },
    {
     "data": {
      "image/png": "[encoded data removed]",
      "text/plain": [
       "<Figure size 1500x500 with 2 Axes>"
      ]
     },
     "metadata": {},
     "output_type": "display_data"
    }
   ],
   "source": [
    "visualize_hist_box(numeric_data, \"pdays\")\n",
    "# عدد الأيام منذ آخر تواصل سابق بالحملة."
   ]
  },
  {
   "cell_type": "code",
   "execution_count": 26,
   "id": "53d81bb4",
   "metadata": {
    "execution": {
     "iopub.execute_input": "2025-09-05T19:22:15.897060Z",
     "iopub.status.busy": "2025-09-05T19:22:15.896700Z",
     "iopub.status.idle": "2025-09-05T19:22:15.910539Z",
     "shell.execute_reply": "2025-09-05T19:22:15.909585Z"
    },
    "papermill": {
     "duration": 0.03103,
     "end_time": "2025-09-05T19:22:15.912352",
     "exception": false,
     "start_time": "2025-09-05T19:22:15.881322",
     "status": "completed"
    },
    "tags": []
   },
   "outputs": [
    {
     "data": {
      "text/plain": [
       "pdays\n",
       "-1      672434\n",
       " 182      2515\n",
       " 92       2275\n",
       " 183      2074\n",
       " 181      1698\n",
       "         ...  \n",
       " 759         1\n",
       " 529         1\n",
       " 794         1\n",
       " 617         1\n",
       " 376         1\n",
       "Name: count, Length: 596, dtype: int64"
      ]
     },
     "execution_count": 26,
     "metadata": {},
     "output_type": "execute_result"
    }
   ],
   "source": [
    "numeric_data[\"pdays\"].value_counts()\n"
   ]
  },
  {
   "cell_type": "code",
   "execution_count": 27,
   "id": "273af391",
   "metadata": {
    "execution": {
     "iopub.execute_input": "2025-09-05T19:22:15.942751Z",
     "iopub.status.busy": "2025-09-05T19:22:15.942411Z",
     "iopub.status.idle": "2025-09-05T19:22:16.212762Z",
     "shell.execute_reply": "2025-09-05T19:22:16.211704Z"
    },
    "papermill": {
     "duration": 0.287759,
     "end_time": "2025-09-05T19:22:16.214494",
     "exception": false,
     "start_time": "2025-09-05T19:22:15.926735",
     "status": "completed"
    },
    "tags": []
   },
   "outputs": [],
   "source": [
    "train_data[\"contacted_before\"] = train_data[\"pdays\"].apply(lambda x: 0 if x == -1 else 1)"
   ]
  },
  {
   "cell_type": "code",
   "execution_count": 28,
   "id": "c1735444",
   "metadata": {
    "execution": {
     "iopub.execute_input": "2025-09-05T19:22:16.244661Z",
     "iopub.status.busy": "2025-09-05T19:22:16.244275Z",
     "iopub.status.idle": "2025-09-05T19:22:16.337271Z",
     "shell.execute_reply": "2025-09-05T19:22:16.336069Z"
    },
    "papermill": {
     "duration": 0.110415,
     "end_time": "2025-09-05T19:22:16.339161",
     "exception": false,
     "start_time": "2025-09-05T19:22:16.228746",
     "status": "completed"
    },
    "tags": []
   },
   "outputs": [],
   "source": [
    "test_data[\"contacted_before\"] = test_data[\"pdays\"].apply(lambda x: 0 if x == -1 else 1)"
   ]
  },
  {
   "cell_type": "code",
   "execution_count": 29,
   "id": "d773f918",
   "metadata": {
    "execution": {
     "iopub.execute_input": "2025-09-05T19:22:16.369765Z",
     "iopub.status.busy": "2025-09-05T19:22:16.369368Z",
     "iopub.status.idle": "2025-09-05T19:22:19.892193Z",
     "shell.execute_reply": "2025-09-05T19:22:19.891193Z"
    },
    "papermill": {
     "duration": 3.540106,
     "end_time": "2025-09-05T19:22:19.893757",
     "exception": false,
     "start_time": "2025-09-05T19:22:16.353651",
     "status": "completed"
    },
    "tags": []
   },
   "outputs": [
    {
     "name": "stderr",
     "output_type": "stream",
     "text": [
      "/usr/local/lib/python3.11/dist-packages/seaborn/_oldcore.py:1119: FutureWarning: use_inf_as_na option is deprecated and will be removed in a future version. Convert inf values to NaN before operating instead.\n",
      "  with pd.option_context('mode.use_inf_as_na', True):\n"
     ]
    },
    {
     "data": {
      "image/png": "[encoded data removed]",
      "text/plain": [
       "<Figure size 1500x500 with 2 Axes>"
      ]
     },
     "metadata": {},
     "output_type": "display_data"
    }
   ],
   "source": [
    "visualize_hist_box(numeric_data, \"previous\")\n",
    "# عدد مرات التواصل السابقة بالحملات الماضية."
   ]
  },
  {
   "cell_type": "code",
   "execution_count": 30,
   "id": "d3c25f00",
   "metadata": {
    "execution": {
     "iopub.execute_input": "2025-09-05T19:22:19.926017Z",
     "iopub.status.busy": "2025-09-05T19:22:19.925704Z",
     "iopub.status.idle": "2025-09-05T19:22:20.133975Z",
     "shell.execute_reply": "2025-09-05T19:22:20.133168Z"
    },
    "papermill": {
     "duration": 0.225951,
     "end_time": "2025-09-05T19:22:20.135756",
     "exception": false,
     "start_time": "2025-09-05T19:22:19.909805",
     "status": "completed"
    },
    "tags": []
   },
   "outputs": [
    {
     "data": {
      "text/html": [
       "<div>\n",
       "<style scoped>\n",
       "    .dataframe tbody tr th:only-of-type {\n",
       "        vertical-align: middle;\n",
       "    }\n",
       "\n",
       "    .dataframe tbody tr th {\n",
       "        vertical-align: top;\n",
       "    }\n",
       "\n",
       "    .dataframe thead th {\n",
       "        text-align: right;\n",
       "    }\n",
       "</style>\n",
       "<table border=\"1\" class=\"dataframe\">\n",
       "  <thead>\n",
       "    <tr style=\"text-align: right;\">\n",
       "      <th></th>\n",
       "      <th>age</th>\n",
       "      <th>balance</th>\n",
       "      <th>day</th>\n",
       "      <th>duration</th>\n",
       "      <th>campaign</th>\n",
       "      <th>pdays</th>\n",
       "      <th>previous</th>\n",
       "      <th>y</th>\n",
       "    </tr>\n",
       "  </thead>\n",
       "  <tbody>\n",
       "    <tr>\n",
       "      <th>age</th>\n",
       "      <td>1.000000</td>\n",
       "      <td>0.062838</td>\n",
       "      <td>-0.015179</td>\n",
       "      <td>-0.004388</td>\n",
       "      <td>0.002052</td>\n",
       "      <td>-0.021635</td>\n",
       "      <td>0.004541</td>\n",
       "      <td>0.009523</td>\n",
       "    </tr>\n",
       "    <tr>\n",
       "      <th>balance</th>\n",
       "      <td>0.062838</td>\n",
       "      <td>1.000000</td>\n",
       "      <td>-0.008269</td>\n",
       "      <td>0.109629</td>\n",
       "      <td>-0.027744</td>\n",
       "      <td>0.010040</td>\n",
       "      <td>0.033897</td>\n",
       "      <td>0.122513</td>\n",
       "    </tr>\n",
       "    <tr>\n",
       "      <th>day</th>\n",
       "      <td>-0.015179</td>\n",
       "      <td>-0.008269</td>\n",
       "      <td>1.000000</td>\n",
       "      <td>-0.056755</td>\n",
       "      <td>0.178806</td>\n",
       "      <td>-0.086197</td>\n",
       "      <td>-0.051082</td>\n",
       "      <td>-0.049625</td>\n",
       "    </tr>\n",
       "    <tr>\n",
       "      <th>duration</th>\n",
       "      <td>-0.004388</td>\n",
       "      <td>0.109629</td>\n",
       "      <td>-0.056755</td>\n",
       "      <td>1.000000</td>\n",
       "      <td>-0.083016</td>\n",
       "      <td>0.047555</td>\n",
       "      <td>0.040105</td>\n",
       "      <td>0.519283</td>\n",
       "    </tr>\n",
       "    <tr>\n",
       "      <th>campaign</th>\n",
       "      <td>0.002052</td>\n",
       "      <td>-0.027744</td>\n",
       "      <td>0.178806</td>\n",
       "      <td>-0.083016</td>\n",
       "      <td>1.000000</td>\n",
       "      <td>-0.061465</td>\n",
       "      <td>-0.026707</td>\n",
       "      <td>-0.075829</td>\n",
       "    </tr>\n",
       "    <tr>\n",
       "      <th>pdays</th>\n",
       "      <td>-0.021635</td>\n",
       "      <td>0.010040</td>\n",
       "      <td>-0.086197</td>\n",
       "      <td>0.047555</td>\n",
       "      <td>-0.061465</td>\n",
       "      <td>1.000000</td>\n",
       "      <td>0.561839</td>\n",
       "      <td>0.089277</td>\n",
       "    </tr>\n",
       "    <tr>\n",
       "      <th>previous</th>\n",
       "      <td>0.004541</td>\n",
       "      <td>0.033897</td>\n",
       "      <td>-0.051082</td>\n",
       "      <td>0.040105</td>\n",
       "      <td>-0.026707</td>\n",
       "      <td>0.561839</td>\n",
       "      <td>1.000000</td>\n",
       "      <td>0.119552</td>\n",
       "    </tr>\n",
       "    <tr>\n",
       "      <th>y</th>\n",
       "      <td>0.009523</td>\n",
       "      <td>0.122513</td>\n",
       "      <td>-0.049625</td>\n",
       "      <td>0.519283</td>\n",
       "      <td>-0.075829</td>\n",
       "      <td>0.089277</td>\n",
       "      <td>0.119552</td>\n",
       "      <td>1.000000</td>\n",
       "    </tr>\n",
       "  </tbody>\n",
       "</table>\n",
       "</div>"
      ],
      "text/plain": [
       "               age   balance       day  duration  campaign     pdays  \\\n",
       "age       1.000000  0.062838 -0.015179 -0.004388  0.002052 -0.021635   \n",
       "balance   0.062838  1.000000 -0.008269  0.109629 -0.027744  0.010040   \n",
       "day      -0.015179 -0.008269  1.000000 -0.056755  0.178806 -0.086197   \n",
       "duration -0.004388  0.109629 -0.056755  1.000000 -0.083016  0.047555   \n",
       "campaign  0.002052 -0.027744  0.178806 -0.083016  1.000000 -0.061465   \n",
       "pdays    -0.021635  0.010040 -0.086197  0.047555 -0.061465  1.000000   \n",
       "previous  0.004541  0.033897 -0.051082  0.040105 -0.026707  0.561839   \n",
       "y         0.009523  0.122513 -0.049625  0.519283 -0.075829  0.089277   \n",
       "\n",
       "          previous         y  \n",
       "age       0.004541  0.009523  \n",
       "balance   0.033897  0.122513  \n",
       "day      -0.051082 -0.049625  \n",
       "duration  0.040105  0.519283  \n",
       "campaign -0.026707 -0.075829  \n",
       "pdays     0.561839  0.089277  \n",
       "previous  1.000000  0.119552  \n",
       "y         0.119552  1.000000  "
      ]
     },
     "execution_count": 30,
     "metadata": {},
     "output_type": "execute_result"
    }
   ],
   "source": [
    "numeric_data.corr()"
   ]
  },
  {
   "cell_type": "code",
   "execution_count": 31,
   "id": "e4ba4bc5",
   "metadata": {
    "execution": {
     "iopub.execute_input": "2025-09-05T19:22:20.167691Z",
     "iopub.status.busy": "2025-09-05T19:22:20.167354Z",
     "iopub.status.idle": "2025-09-05T19:22:20.756921Z",
     "shell.execute_reply": "2025-09-05T19:22:20.755820Z"
    },
    "papermill": {
     "duration": 0.608225,
     "end_time": "2025-09-05T19:22:20.759124",
     "exception": false,
     "start_time": "2025-09-05T19:22:20.150899",
     "status": "completed"
    },
    "tags": []
   },
   "outputs": [
    {
     "data": {
      "text/plain": [
       "<Axes: >"
      ]
     },
     "execution_count": 31,
     "metadata": {},
     "output_type": "execute_result"
    },
    {
     "data": {
      "image/png": "[encoded data removed]",
      "text/plain": [
       "<Figure size 640x480 with 2 Axes>"
      ]
     },
     "metadata": {},
     "output_type": "display_data"
    }
   ],
   "source": [
    "sns.heatmap(numeric_data.corr().round(2), annot=True)"
   ]
  },
  {
   "cell_type": "code",
   "execution_count": 32,
   "id": "6942f85a",
   "metadata": {
    "execution": {
     "iopub.execute_input": "2025-09-05T19:22:20.793684Z",
     "iopub.status.busy": "2025-09-05T19:22:20.793329Z",
     "iopub.status.idle": "2025-09-05T19:22:21.719440Z",
     "shell.execute_reply": "2025-09-05T19:22:21.718369Z"
    },
    "papermill": {
     "duration": 0.945376,
     "end_time": "2025-09-05T19:22:21.721339",
     "exception": false,
     "start_time": "2025-09-05T19:22:20.775963",
     "status": "completed"
    },
    "tags": []
   },
   "outputs": [
    {
     "data": {
      "text/plain": [
       "y           1.000000\n",
       "duration    0.439505\n",
       "balance     0.197585\n",
       "previous    0.170808\n",
       "pdays       0.160032\n",
       "age        -0.023160\n",
       "day        -0.050879\n",
       "campaign   -0.092629\n",
       "Name: y, dtype: float64"
      ]
     },
     "execution_count": 32,
     "metadata": {},
     "output_type": "execute_result"
    }
   ],
   "source": [
    "spearman_corr = numeric_data.corr(method=\"spearman\")[\"y\"].sort_values(ascending=False)\n",
    "spearman_corr"
   ]
  },
  {
   "cell_type": "code",
   "execution_count": 33,
   "id": "fc5affc4",
   "metadata": {
    "execution": {
     "iopub.execute_input": "2025-09-05T19:22:21.757438Z",
     "iopub.status.busy": "2025-09-05T19:22:21.757127Z",
     "iopub.status.idle": "2025-09-05T19:22:21.875167Z",
     "shell.execute_reply": "2025-09-05T19:22:21.874147Z"
    },
    "papermill": {
     "duration": 0.137814,
     "end_time": "2025-09-05T19:22:21.877100",
     "exception": false,
     "start_time": "2025-09-05T19:22:21.739286",
     "status": "completed"
    },
    "tags": []
   },
   "outputs": [],
   "source": [
    "train_data.drop([\"day\", \"age\"], axis=1, inplace=True)"
   ]
  },
  {
   "cell_type": "code",
   "execution_count": 34,
   "id": "8837e4fd",
   "metadata": {
    "execution": {
     "iopub.execute_input": "2025-09-05T19:22:21.912679Z",
     "iopub.status.busy": "2025-09-05T19:22:21.911697Z",
     "iopub.status.idle": "2025-09-05T19:22:21.936327Z",
     "shell.execute_reply": "2025-09-05T19:22:21.935407Z"
    },
    "papermill": {
     "duration": 0.044357,
     "end_time": "2025-09-05T19:22:21.938443",
     "exception": false,
     "start_time": "2025-09-05T19:22:21.894086",
     "status": "completed"
    },
    "tags": []
   },
   "outputs": [],
   "source": [
    "test_data.drop([\"day\", \"age\"], axis=1, inplace=True)"
   ]
  },
  {
   "cell_type": "code",
   "execution_count": 35,
   "id": "b3217029",
   "metadata": {
    "execution": {
     "iopub.execute_input": "2025-09-05T19:22:21.972479Z",
     "iopub.status.busy": "2025-09-05T19:22:21.972116Z",
     "iopub.status.idle": "2025-09-05T19:22:21.977233Z",
     "shell.execute_reply": "2025-09-05T19:22:21.976168Z"
    },
    "papermill": {
     "duration": 0.023816,
     "end_time": "2025-09-05T19:22:21.979027",
     "exception": false,
     "start_time": "2025-09-05T19:22:21.955211",
     "status": "completed"
    },
    "tags": []
   },
   "outputs": [],
   "source": [
    "\n",
    "nominal_colums = [\"job\", \"contact\", \"month\"]\n",
    "ordinal_columns = [\"marital\", \"education\", \"default\", \"housing\", \"loan\", \"poutcome\"]\n"
   ]
  },
  {
   "cell_type": "code",
   "execution_count": 36,
   "id": "e1a8f1d3",
   "metadata": {
    "execution": {
     "iopub.execute_input": "2025-09-05T19:22:22.013794Z",
     "iopub.status.busy": "2025-09-05T19:22:22.013445Z",
     "iopub.status.idle": "2025-09-05T19:22:24.008769Z",
     "shell.execute_reply": "2025-09-05T19:22:24.007778Z"
    },
    "papermill": {
     "duration": 2.014231,
     "end_time": "2025-09-05T19:22:24.010484",
     "exception": false,
     "start_time": "2025-09-05T19:22:21.996253",
     "status": "completed"
    },
    "tags": []
   },
   "outputs": [],
   "source": [
    "from sklearn.preprocessing import OneHotEncoder\n",
    "\n",
    "ohe = OneHotEncoder(sparse_output=False, handle_unknown=\"ignore\")\n",
    "ohe_encdoing_data_train = ohe.fit_transform(train_data[nominal_colums])\n",
    "\n",
    "ohe_df_train = pd.DataFrame(\n",
    "    ohe_encdoing_data_train,\n",
    "    columns=ohe.get_feature_names_out(nominal_colums),\n",
    "    index=train_data.index\n",
    ")\n",
    "\n",
    "\n",
    "ohe_encdoing_data_test = ohe.transform(test_data[nominal_colums])\n",
    "\n",
    "ohe_df_test = pd.DataFrame(\n",
    "    ohe_encdoing_data_test,\n",
    "    columns=ohe.get_feature_names_out(nominal_colums),\n",
    "    index=test_data.index\n",
    ")\n",
    "\n",
    "\n",
    "train_data = pd.concat([train_data.drop(nominal_colums, axis=1), ohe_df_train], axis=1)\n",
    "test_data  = pd.concat([test_data.drop(nominal_colums, axis=1),  ohe_df_test], axis=1)\n",
    "\n"
   ]
  },
  {
   "cell_type": "code",
   "execution_count": 37,
   "id": "a187d07e",
   "metadata": {
    "execution": {
     "iopub.execute_input": "2025-09-05T19:22:24.044877Z",
     "iopub.status.busy": "2025-09-05T19:22:24.044521Z",
     "iopub.status.idle": "2025-09-05T19:23:34.369200Z",
     "shell.execute_reply": "2025-09-05T19:23:34.368191Z"
    },
    "papermill": {
     "duration": 70.343772,
     "end_time": "2025-09-05T19:23:34.371101",
     "exception": false,
     "start_time": "2025-09-05T19:22:24.027329",
     "status": "completed"
    },
    "tags": []
   },
   "outputs": [],
   "source": [
    "from sklearn.preprocessing import LabelEncoder\n",
    "\n",
    "\n",
    "encoders = {}\n",
    "\n",
    "for col in ordinal_columns:\n",
    "    le = LabelEncoder()\n",
    "    le.fit(train_data[col])  \n",
    "    encoders[col] = le        \n",
    "    \n",
    "    train_data[col + \"_leencoding\"] = le.transform(train_data[col])\n",
    "\n",
    "train_data = pd.concat([train_data.drop(ordinal_columns , axis=1), ohe_df_train], axis=1)\n",
    "\n",
    "\n",
    "for col in ordinal_columns:\n",
    "    le = encoders[col] \n",
    "    \n",
    "    test_data[col + \"_leencoding\"] = test_data[col].map(\n",
    "        lambda x: le.transform([x])[0] if x in le.classes_ else -1\n",
    "    )\n",
    "\n",
    "test_data = pd.concat([test_data.drop(ordinal_columns , axis=1), ohe_df_test], axis=1)\n",
    "\n"
   ]
  },
  {
   "cell_type": "code",
   "execution_count": 38,
   "id": "c00a492d",
   "metadata": {
    "execution": {
     "iopub.execute_input": "2025-09-05T19:23:34.406738Z",
     "iopub.status.busy": "2025-09-05T19:23:34.406355Z",
     "iopub.status.idle": "2025-09-05T19:23:34.412832Z",
     "shell.execute_reply": "2025-09-05T19:23:34.411871Z"
    },
    "papermill": {
     "duration": 0.026227,
     "end_time": "2025-09-05T19:23:34.414600",
     "exception": false,
     "start_time": "2025-09-05T19:23:34.388373",
     "status": "completed"
    },
    "tags": []
   },
   "outputs": [
    {
     "data": {
      "text/plain": [
       "Index(['age', 'balance', 'day', 'duration', 'campaign', 'pdays', 'previous',\n",
       "       'y'],\n",
       "      dtype='object')"
      ]
     },
     "execution_count": 38,
     "metadata": {},
     "output_type": "execute_result"
    }
   ],
   "source": [
    "numeric_data.columns"
   ]
  },
  {
   "cell_type": "code",
   "execution_count": 39,
   "id": "2791e093",
   "metadata": {
    "execution": {
     "iopub.execute_input": "2025-09-05T19:23:34.448568Z",
     "iopub.status.busy": "2025-09-05T19:23:34.448260Z",
     "iopub.status.idle": "2025-09-05T19:23:35.449549Z",
     "shell.execute_reply": "2025-09-05T19:23:35.448566Z"
    },
    "papermill": {
     "duration": 1.020639,
     "end_time": "2025-09-05T19:23:35.451547",
     "exception": false,
     "start_time": "2025-09-05T19:23:34.430908",
     "status": "completed"
    },
    "tags": []
   },
   "outputs": [],
   "source": [
    "from sklearn.preprocessing import RobustScaler\n",
    "import pandas as pd\n",
    "\n",
    "scaler = RobustScaler()\n",
    "columns_names_for_scaling = [\"duration\",\"balance\", \"campaign\", \"pdays\", \"previous\"]\n",
    "scaled_train = scaler.fit_transform(train_data[columns_names_for_scaling])\n",
    "scaled_train_df = pd.DataFrame(\n",
    "    scaled_train,\n",
    "    columns=[\"duration_scaled\",\"balance_scaled\", \"campaign_scaled\", \"pdays_scaled\", \"previous_scaled\"],\n",
    "    index=train_data.index\n",
    ")\n",
    "train_scaled = pd.concat(\n",
    "    [train_data.drop(columns=columns_names_for_scaling), scaled_train_df],\n",
    "    axis=1\n",
    ")\n",
    "\n",
    "scaled_test = scaler.transform(test_data[columns_names_for_scaling])\n",
    "scaled_test_df = pd.DataFrame(\n",
    "    scaled_test,\n",
    "    columns=[\"duration_scaled\",\"balance_scaled\", \"campaign_scaled\", \"pdays_scaled\", \"previous_scaled\"],\n",
    "    index=test_data.index\n",
    ")\n",
    "test_scaled = pd.concat(\n",
    "    [test_data.drop(columns=columns_names_for_scaling), scaled_test_df],\n",
    "    axis=1\n",
    ")\n"
   ]
  },
  {
   "cell_type": "code",
   "execution_count": 40,
   "id": "e9653ee0",
   "metadata": {
    "execution": {
     "iopub.execute_input": "2025-09-05T19:23:35.486156Z",
     "iopub.status.busy": "2025-09-05T19:23:35.485835Z",
     "iopub.status.idle": "2025-09-05T19:23:35.495027Z",
     "shell.execute_reply": "2025-09-05T19:23:35.493952Z"
    },
    "papermill": {
     "duration": 0.028424,
     "end_time": "2025-09-05T19:23:35.496777",
     "exception": false,
     "start_time": "2025-09-05T19:23:35.468353",
     "status": "completed"
    },
    "tags": []
   },
   "outputs": [
    {
     "data": {
      "text/plain": [
       "0         0\n",
       "1         0\n",
       "2         0\n",
       "3         0\n",
       "4         1\n",
       "         ..\n",
       "749995    1\n",
       "749996    0\n",
       "749997    0\n",
       "749998    0\n",
       "749999    0\n",
       "Name: y, Length: 750000, dtype: int64"
      ]
     },
     "execution_count": 40,
     "metadata": {},
     "output_type": "execute_result"
    }
   ],
   "source": [
    "train_scaled['y']"
   ]
  },
  {
   "cell_type": "code",
   "execution_count": 41,
   "id": "c07d8c32",
   "metadata": {
    "execution": {
     "iopub.execute_input": "2025-09-05T19:23:35.531105Z",
     "iopub.status.busy": "2025-09-05T19:23:35.530760Z",
     "iopub.status.idle": "2025-09-05T19:23:36.845052Z",
     "shell.execute_reply": "2025-09-05T19:23:36.843956Z"
    },
    "papermill": {
     "duration": 1.333687,
     "end_time": "2025-09-05T19:23:36.846822",
     "exception": false,
     "start_time": "2025-09-05T19:23:35.513135",
     "status": "completed"
    },
    "tags": []
   },
   "outputs": [],
   "source": [
    "from sklearn.linear_model import LogisticRegression\n",
    "from sklearn.metrics import classification_report, confusion_matrix\n",
    "from sklearn.model_selection import train_test_split\n",
    "X = train_scaled.drop(\"y\", axis=1).values\n",
    "y = train_scaled[\"y\"].values\n",
    "\n",
    "X_train, X_val, y_train, y_val = train_test_split(X, y, test_size=0.3, random_state=42)\n",
    "model = LogisticRegression(class_weight='balanced', max_iter=1000, random_state=42)"
   ]
  },
  {
   "cell_type": "code",
   "execution_count": 42,
   "id": "20951d33",
   "metadata": {
    "execution": {
     "iopub.execute_input": "2025-09-05T19:23:36.880808Z",
     "iopub.status.busy": "2025-09-05T19:23:36.880471Z",
     "iopub.status.idle": "2025-09-05T19:24:52.222652Z",
     "shell.execute_reply": "2025-09-05T19:24:52.221475Z"
    },
    "papermill": {
     "duration": 75.375677,
     "end_time": "2025-09-05T19:24:52.239154",
     "exception": false,
     "start_time": "2025-09-05T19:23:36.863477",
     "status": "completed"
    },
    "tags": []
   },
   "outputs": [
    {
     "data": {
      "text/plain": [
       "0.8685822222222223"
      ]
     },
     "execution_count": 42,
     "metadata": {},
     "output_type": "execute_result"
    }
   ],
   "source": [
    "model.fit(X_train, y_train)\n",
    "model.score(X_val, y_val)"
   ]
  },
  {
   "cell_type": "code",
   "execution_count": 43,
   "id": "4502a517",
   "metadata": {
    "execution": {
     "iopub.execute_input": "2025-09-05T19:24:52.273985Z",
     "iopub.status.busy": "2025-09-05T19:24:52.273661Z",
     "iopub.status.idle": "2025-09-05T19:24:52.299043Z",
     "shell.execute_reply": "2025-09-05T19:24:52.297839Z"
    },
    "papermill": {
     "duration": 0.04463,
     "end_time": "2025-09-05T19:24:52.300708",
     "exception": false,
     "start_time": "2025-09-05T19:24:52.256078",
     "status": "completed"
    },
    "tags": []
   },
   "outputs": [],
   "source": [
    "y_pre = model.predict(X_val)\n"
   ]
  },
  {
   "cell_type": "code",
   "execution_count": 44,
   "id": "162ceb14",
   "metadata": {
    "execution": {
     "iopub.execute_input": "2025-09-05T19:24:52.334753Z",
     "iopub.status.busy": "2025-09-05T19:24:52.334393Z",
     "iopub.status.idle": "2025-09-05T19:24:52.361512Z",
     "shell.execute_reply": "2025-09-05T19:24:52.360564Z"
    },
    "papermill": {
     "duration": 0.046068,
     "end_time": "2025-09-05T19:24:52.363337",
     "exception": false,
     "start_time": "2025-09-05T19:24:52.317269",
     "status": "completed"
    },
    "tags": []
   },
   "outputs": [],
   "source": [
    "y_pre_proba = model.predict_proba(X_val)"
   ]
  },
  {
   "cell_type": "code",
   "execution_count": 45,
   "id": "d1501dca",
   "metadata": {
    "execution": {
     "iopub.execute_input": "2025-09-05T19:24:52.398354Z",
     "iopub.status.busy": "2025-09-05T19:24:52.397596Z",
     "iopub.status.idle": "2025-09-05T19:24:52.735805Z",
     "shell.execute_reply": "2025-09-05T19:24:52.734803Z"
    },
    "papermill": {
     "duration": 0.357534,
     "end_time": "2025-09-05T19:24:52.737498",
     "exception": false,
     "start_time": "2025-09-05T19:24:52.379964",
     "status": "completed"
    },
    "tags": []
   },
   "outputs": [
    {
     "name": "stdout",
     "output_type": "stream",
     "text": [
      "              precision    recall  f1-score   support\n",
      "\n",
      "           0       0.87      0.98      0.92    174812\n",
      "           1       0.88      0.48      0.62     50188\n",
      "\n",
      "    accuracy                           0.87    225000\n",
      "   macro avg       0.87      0.73      0.77    225000\n",
      "weighted avg       0.87      0.87      0.85    225000\n",
      "\n"
     ]
    }
   ],
   "source": [
    "print(classification_report(y_pre, y_val))"
   ]
  },
  {
   "cell_type": "code",
   "execution_count": 46,
   "id": "a2c84188",
   "metadata": {
    "execution": {
     "iopub.execute_input": "2025-09-05T19:24:52.772272Z",
     "iopub.status.busy": "2025-09-05T19:24:52.771971Z",
     "iopub.status.idle": "2025-09-05T19:24:52.814815Z",
     "shell.execute_reply": "2025-09-05T19:24:52.813676Z"
    },
    "papermill": {
     "duration": 0.062284,
     "end_time": "2025-09-05T19:24:52.816542",
     "exception": false,
     "start_time": "2025-09-05T19:24:52.754258",
     "status": "completed"
    },
    "tags": []
   },
   "outputs": [
    {
     "data": {
      "text/plain": [
       "array([[171463,   3349],\n",
       "       [ 26220,  23968]])"
      ]
     },
     "execution_count": 46,
     "metadata": {},
     "output_type": "execute_result"
    }
   ],
   "source": [
    "confusion_matrix(y_pre, y_val)"
   ]
  },
  {
   "cell_type": "code",
   "execution_count": 47,
   "id": "064e37ad",
   "metadata": {
    "execution": {
     "iopub.execute_input": "2025-09-05T19:24:52.850867Z",
     "iopub.status.busy": "2025-09-05T19:24:52.850531Z",
     "iopub.status.idle": "2025-09-05T19:24:52.999706Z",
     "shell.execute_reply": "2025-09-05T19:24:52.998516Z"
    },
    "papermill": {
     "duration": 0.168286,
     "end_time": "2025-09-05T19:24:53.001405",
     "exception": false,
     "start_time": "2025-09-05T19:24:52.833119",
     "status": "completed"
    },
    "tags": []
   },
   "outputs": [
    {
     "name": "stderr",
     "output_type": "stream",
     "text": [
      "/usr/local/lib/python3.11/dist-packages/sklearn/base.py:432: UserWarning: X has feature names, but LogisticRegression was fitted without feature names\n",
      "  warnings.warn(\n",
      "/usr/local/lib/python3.11/dist-packages/sklearn/base.py:432: UserWarning: X has feature names, but LogisticRegression was fitted without feature names\n",
      "  warnings.warn(\n"
     ]
    },
    {
     "data": {
      "text/plain": [
       "(250000, 2)"
      ]
     },
     "execution_count": 47,
     "metadata": {},
     "output_type": "execute_result"
    }
   ],
   "source": [
    "y_predicted_test = model.predict(test_scaled)\n",
    "y_predicted_test_proba = model.predict_proba(test_scaled)\n",
    "\n",
    "y_predicted_test_proba.shape"
   ]
  },
  {
   "cell_type": "code",
   "execution_count": 48,
   "id": "bcdf998d",
   "metadata": {
    "execution": {
     "iopub.execute_input": "2025-09-05T19:24:53.037573Z",
     "iopub.status.busy": "2025-09-05T19:24:53.037173Z",
     "iopub.status.idle": "2025-09-05T19:24:53.042993Z",
     "shell.execute_reply": "2025-09-05T19:24:53.042082Z"
    },
    "papermill": {
     "duration": 0.025767,
     "end_time": "2025-09-05T19:24:53.044758",
     "exception": false,
     "start_time": "2025-09-05T19:24:53.018991",
     "status": "completed"
    },
    "tags": []
   },
   "outputs": [],
   "source": [
    "df_submit = pd.DataFrame({\n",
    "    \"id\": test_data_id,\n",
    "    \"y\": y_predicted_test_proba[:, 1]\n",
    "})\n"
   ]
  },
  {
   "cell_type": "code",
   "execution_count": 49,
   "id": "d0e59b09",
   "metadata": {
    "execution": {
     "iopub.execute_input": "2025-09-05T19:24:53.079586Z",
     "iopub.status.busy": "2025-09-05T19:24:53.079258Z",
     "iopub.status.idle": "2025-09-05T19:24:53.090277Z",
     "shell.execute_reply": "2025-09-05T19:24:53.089433Z"
    },
    "papermill": {
     "duration": 0.030234,
     "end_time": "2025-09-05T19:24:53.091770",
     "exception": false,
     "start_time": "2025-09-05T19:24:53.061536",
     "status": "completed"
    },
    "tags": []
   },
   "outputs": [
    {
     "data": {
      "text/html": [
       "<div>\n",
       "<style scoped>\n",
       "    .dataframe tbody tr th:only-of-type {\n",
       "        vertical-align: middle;\n",
       "    }\n",
       "\n",
       "    .dataframe tbody tr th {\n",
       "        vertical-align: top;\n",
       "    }\n",
       "\n",
       "    .dataframe thead th {\n",
       "        text-align: right;\n",
       "    }\n",
       "</style>\n",
       "<table border=\"1\" class=\"dataframe\">\n",
       "  <thead>\n",
       "    <tr style=\"text-align: right;\">\n",
       "      <th></th>\n",
       "      <th>id</th>\n",
       "      <th>y</th>\n",
       "    </tr>\n",
       "  </thead>\n",
       "  <tbody>\n",
       "    <tr>\n",
       "      <th>0</th>\n",
       "      <td>750000</td>\n",
       "      <td>0.029978</td>\n",
       "    </tr>\n",
       "    <tr>\n",
       "      <th>1</th>\n",
       "      <td>750001</td>\n",
       "      <td>0.844938</td>\n",
       "    </tr>\n",
       "    <tr>\n",
       "      <th>2</th>\n",
       "      <td>750002</td>\n",
       "      <td>0.033633</td>\n",
       "    </tr>\n",
       "    <tr>\n",
       "      <th>3</th>\n",
       "      <td>750003</td>\n",
       "      <td>0.006600</td>\n",
       "    </tr>\n",
       "    <tr>\n",
       "      <th>4</th>\n",
       "      <td>750004</td>\n",
       "      <td>0.112404</td>\n",
       "    </tr>\n",
       "    <tr>\n",
       "      <th>...</th>\n",
       "      <td>...</td>\n",
       "      <td>...</td>\n",
       "    </tr>\n",
       "    <tr>\n",
       "      <th>249995</th>\n",
       "      <td>999995</td>\n",
       "      <td>0.041842</td>\n",
       "    </tr>\n",
       "    <tr>\n",
       "      <th>249996</th>\n",
       "      <td>999996</td>\n",
       "      <td>0.520174</td>\n",
       "    </tr>\n",
       "    <tr>\n",
       "      <th>249997</th>\n",
       "      <td>999997</td>\n",
       "      <td>0.878807</td>\n",
       "    </tr>\n",
       "    <tr>\n",
       "      <th>249998</th>\n",
       "      <td>999998</td>\n",
       "      <td>0.015803</td>\n",
       "    </tr>\n",
       "    <tr>\n",
       "      <th>249999</th>\n",
       "      <td>999999</td>\n",
       "      <td>0.633970</td>\n",
       "    </tr>\n",
       "  </tbody>\n",
       "</table>\n",
       "<p>250000 rows × 2 columns</p>\n",
       "</div>"
      ],
      "text/plain": [
       "            id         y\n",
       "0       750000  0.029978\n",
       "1       750001  0.844938\n",
       "2       750002  0.033633\n",
       "3       750003  0.006600\n",
       "4       750004  0.112404\n",
       "...        ...       ...\n",
       "249995  999995  0.041842\n",
       "249996  999996  0.520174\n",
       "249997  999997  0.878807\n",
       "249998  999998  0.015803\n",
       "249999  999999  0.633970\n",
       "\n",
       "[250000 rows x 2 columns]"
      ]
     },
     "execution_count": 49,
     "metadata": {},
     "output_type": "execute_result"
    }
   ],
   "source": [
    "df_submit"
   ]
  },
  {
   "cell_type": "code",
   "execution_count": 50,
   "id": "e4beaf0f",
   "metadata": {
    "execution": {
     "iopub.execute_input": "2025-09-05T19:24:53.127038Z",
     "iopub.status.busy": "2025-09-05T19:24:53.126743Z",
     "iopub.status.idle": "2025-09-05T19:24:53.130831Z",
     "shell.execute_reply": "2025-09-05T19:24:53.129980Z"
    },
    "papermill": {
     "duration": 0.024021,
     "end_time": "2025-09-05T19:24:53.132397",
     "exception": false,
     "start_time": "2025-09-05T19:24:53.108376",
     "status": "completed"
    },
    "tags": []
   },
   "outputs": [],
   "source": [
    "# from sklearn.svm import SVC\n",
    "\n",
    "# svc_model = SVC(kernel=\"rbf\", C=1.0, gamma=\"scale\", random_state=42)\n",
    "# svc_model.fit(X_train, y_train)\n",
    "# y_pred = svc_model.predict(X_val)\n",
    "\n",
    "# print(classification_report(y_val,y_pred))"
   ]
  },
  {
   "cell_type": "code",
   "execution_count": 51,
   "id": "5095b9fa",
   "metadata": {
    "execution": {
     "iopub.execute_input": "2025-09-05T19:24:53.167081Z",
     "iopub.status.busy": "2025-09-05T19:24:53.166783Z",
     "iopub.status.idle": "2025-09-05T19:24:53.760097Z",
     "shell.execute_reply": "2025-09-05T19:24:53.759147Z"
    },
    "papermill": {
     "duration": 0.612657,
     "end_time": "2025-09-05T19:24:53.761924",
     "exception": false,
     "start_time": "2025-09-05T19:24:53.149267",
     "status": "completed"
    },
    "tags": []
   },
   "outputs": [],
   "source": [
    "df_submit.to_csv(\"submission.csv\", index=False)\n"
   ]
  },
  {
   "cell_type": "code",
   "execution_count": 52,
   "id": "ea1285ac",
   "metadata": {
    "execution": {
     "iopub.execute_input": "2025-09-05T19:24:53.797833Z",
     "iopub.status.busy": "2025-09-05T19:24:53.796744Z",
     "iopub.status.idle": "2025-09-05T19:24:53.944454Z",
     "shell.execute_reply": "2025-09-05T19:24:53.943148Z"
    },
    "papermill": {
     "duration": 0.167598,
     "end_time": "2025-09-05T19:24:53.946530",
     "exception": false,
     "start_time": "2025-09-05T19:24:53.778932",
     "status": "completed"
    },
    "tags": []
   },
   "outputs": [
    {
     "name": "stdout",
     "output_type": "stream",
     "text": [
      "__notebook__.ipynb  submission.csv\r\n"
     ]
    }
   ],
   "source": [
    "!ls"
   ]
  }
 ],
 "metadata": {
  "kaggle": {
   "accelerator": "none",
   "dataSources": [
    {
     "databundleVersionId": 12937777,
     "sourceId": 91719,
     "sourceType": "competition"
    }
   ],
   "dockerImageVersionId": 31089,
   "isGpuEnabled": false,
   "isInternetEnabled": true,
   "language": "python",
   "sourceType": "notebook"
  },
  "kernelspec": {
   "display_name": "Python 3",
   "language": "python",
   "name": "python3"
  },
  "language_info": {
   "codemirror_mode": {
    "name": "ipython",
    "version": 3
   },
   "file_extension": ".py",
   "mimetype": "text/x-python",
   "name": "python",
   "nbconvert_exporter": "python",
   "pygments_lexer": "ipython3",
   "version": "3.11.13"
  },
  "papermill": {
   "default_parameters": {},
   "duration": 197.53741,
   "end_time": "2025-09-05T19:24:54.885207",
   "environment_variables": {},
   "exception": null,
   "input_path": "__notebook__.ipynb",
   "output_path": "__notebook__.ipynb",
   "parameters": {},
   "start_time": "2025-09-05T19:21:37.347797",
   "version": "2.6.0"
  }
 },
 "nbformat": 4,
 "nbformat_minor": 5
}
