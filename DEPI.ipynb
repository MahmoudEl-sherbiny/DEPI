{
  "nbformat": 4,
  "nbformat_minor": 0,
  "metadata": {
    "colab": {
      "provenance": [],
      "authorship_tag": "ABX9TyOU+5WrJQlojXcEi7O9hvfk",
      "include_colab_link": true
    },
    "kernelspec": {
      "name": "python3",
      "display_name": "Python 3"
    },
    "language_info": {
      "name": "python"
    }
  },
  "cells": [
    {
      "cell_type": "markdown",
      "metadata": {
        "id": "view-in-github",
        "colab_type": "text"
      },
      "source": [
        "<a href=\"https://colab.research.google.com/github/MahmoudEl-sherbiny/DEPI/blob/main/DEPI.ipynb\" target=\"_parent\"><img src=\"https://colab.research.google.com/assets/colab-badge.svg\" alt=\"Open In Colab\"/></a>"
      ]
    },
    {
      "cell_type": "markdown",
      "source": [
        "# ATM Without OPP\n",
        "## Features:\n",
        "- Welcome  Print a simple random bank name\n",
        "Account Creation:\n",
        "- Ask for the user’s name and initial balance.\n",
        "# Main Menu (Loop):\n",
        " 1. Check balance → show balance.\n",
        " 2. Deposit → ask amount, add to balance.\n",
        " 3. Withdraw → ask amount, subtract if enough balance, else warn.\n",
        " 4. Exit → end program with a thank-you message.\n",
        "# Details:\n",
        "- Use functions for each operation.\n",
        "- Show the user’s name and balance after actions.\n",
        "- Handle invalid menu choices with an error message.\n",
        "- Use float for balance."
      ],
      "metadata": {
        "id": "ZMWPBm4PQQKL"
      }
    },
    {
      "cell_type": "code",
      "source": [
        "import random\n",
        "\n",
        "banks = ['CIB', 'Bank Ahaly', 'Bank Masr']\n",
        "\n",
        "accounts_data = {}\n",
        "\n",
        "def login(username, password):\n",
        "    user = accounts_data.get(username)\n",
        "    if user and user['password'] == password:\n",
        "        print(f\"Welcome dear {username}\")\n",
        "        return True\n",
        "    else:\n",
        "        print(\"Invalid username or password.\")\n",
        "        return False\n",
        "\n",
        "def create_account(username, password, balance):\n",
        "    if username in accounts_data:\n",
        "        print(\"This username already exists.\")\n",
        "        return\n",
        "    accounts_data[username] = {'password': password, 'balance': balance}\n",
        "    print(f\"Account for {username} created successfully.\")\n",
        "\n",
        "def deposit(username, amount):\n",
        "    print(f\"Current Balance: {accounts_data[username]['balance']}\")\n",
        "    accounts_data[username]['balance'] += amount\n",
        "    print(f\"New Balance: {accounts_data[username]['balance']}\")\n",
        "\n",
        "def check_balance(username):\n",
        "    return accounts_data[username]['balance']\n",
        "\n",
        "def withdraw(username, amount):\n",
        "    if check_balance(username) < amount:\n",
        "        print(\"Sorry, your balance is not enough.\")\n",
        "    else:\n",
        "        accounts_data[username]['balance'] -= amount\n",
        "        print(f\"Withdrawal successful. New Balance: {accounts_data[username]['balance']}\")\n",
        "\n",
        "\n",
        "#  Main Loop\n",
        "while True:\n",
        "    random_bank = random.choice(banks)\n",
        "    print(f\"\\nWelcome to {random_bank}\")\n",
        "    action = input(\"1. Create Account\\n2. Login\\n3. Exit\\nChoose: \")\n",
        "\n",
        "    if action == '1':\n",
        "        username = input(\"User Name: \")\n",
        "        password = input(\"Password: \")\n",
        "        try:\n",
        "            balance = float(input(\"Initial Balance: \"))\n",
        "        except ValueError:\n",
        "            print(\"Invalid amount. Please enter a number.\")\n",
        "            continue\n",
        "        create_account(username, password, balance)\n",
        "\n",
        "    elif action == '2':\n",
        "        username = input(\"User Name: \")\n",
        "        password = input(\"Password: \")\n",
        "\n",
        "        if login(username, password):\n",
        "            while True:\n",
        "                choice = input(\"\\nServices:\\n1. Deposit\\n2. Withdraw\\n3. Check Balance\\n4. Logout\\nChoose: \")\n",
        "\n",
        "                if choice == '1':\n",
        "                    try:\n",
        "                        amount = float(input(\"Enter amount to deposit: \"))\n",
        "                        deposit(username, amount)\n",
        "                    except ValueError:\n",
        "                        print(\"Please enter a valid number.\")\n",
        "\n",
        "                elif choice == '2':\n",
        "                    try:\n",
        "                        amount = float(input(\"Enter amount to withdraw: \"))\n",
        "                        withdraw(username, amount)\n",
        "                    except ValueError:\n",
        "                        print(\"Please enter a valid number.\")\n",
        "\n",
        "                elif choice == '3':\n",
        "                    print(f\"Your current balance is: {check_balance(username)}\")\n",
        "\n",
        "                elif choice == '4':\n",
        "                    print(\"Logged out. Thank you for using the ATM.\")\n",
        "                    break\n",
        "\n",
        "                else:\n",
        "                    print(\"Invalid option. Try again.\")\n",
        "\n",
        "    elif action == '3':\n",
        "        print(\"Thank you for visiting. Goodbye!\")\n",
        "        break\n",
        "\n",
        "    else:\n",
        "        print(\"Invalid option. Please select 1, 2, or 3.\")\n"
      ],
      "metadata": {
        "id": "j5djOnpuZWXW",
        "colab": {
          "base_uri": "https://localhost:8080/"
        },
        "outputId": "68dbc827-0916-4d43-9676-995581c83a82",
        "collapsed": true
      },
      "execution_count": null,
      "outputs": [
        {
          "output_type": "stream",
          "name": "stdout",
          "text": [
            "\n",
            "Welcome to Bank Ahaly\n",
            "1. Create Account\n",
            "2. Login\n",
            "3. Exit\n",
            "Choose: 3\n",
            "Thank you for visiting. Goodbye!\n"
          ]
        }
      ]
    },
    {
      "cell_type": "markdown",
      "source": [
        "# ATM Within OPP\n",
        "\n"
      ],
      "metadata": {
        "id": "i-XLVIn51j8s"
      }
    },
    {
      "cell_type": "code",
      "source": [
        "class User:\n",
        "  \"\"\" This class related with users account and how they make deposite and withdraw and make check on balance \"\"\"\n",
        "\n",
        "  def __init__(self, name, password, balance=0):\n",
        "    self.name = name\n",
        "    self.password = password\n",
        "    self.balance = balance\n",
        "\n",
        "  def check_balance(self):\n",
        "     print(f\"Your balance: {self.balance}\")\n",
        "\n",
        "  def deposite(self, amount):\n",
        "    if amount > 0:\n",
        "      self.balance += amount\n",
        "      print(\"done\")\n",
        "    else:\n",
        "      print(\"Amount should be positive\")\n",
        "\n",
        "  def withdraw(self, amount):\n",
        "    if self.balance < amount:\n",
        "      print(\"you don't have enough balance\")\n",
        "    else:\n",
        "      self.balance -= amount\n",
        "      print(\"Success Operation\")\n",
        "\n",
        "\n",
        "class ATMMachines:\n",
        "  def __init__(self, id):\n",
        "    self.id = id\n",
        "    self.users = {}\n",
        "\n",
        "  def add_user(self, user_obj):\n",
        "      self.users[user_obj.name] = user_obj\n",
        "\n",
        "  def login(self, name, password):\n",
        "      if name in self.users:\n",
        "          if password == self.users[name].password:\n",
        "              print(\"This user exists. Login successful.\")\n",
        "              return True\n",
        "          else:\n",
        "              print(\"Incorrect password.\")\n",
        "              return False\n",
        "      else:\n",
        "          print(\"This user does not exist.\")\n",
        "          return False\n",
        "\n",
        "  def get_user(self, name):\n",
        "    return self.users.get(name) # return object from users dictionary\n"
      ],
      "metadata": {
        "id": "gOtFiM0DApjS"
      },
      "execution_count": null,
      "outputs": []
    },
    {
      "cell_type": "code",
      "source": [
        "banks = ['CIB', 'Bank Ahaly', 'Bank Masr']\n",
        "\n",
        "# Make object for Each bank\n",
        "all_atms = {bank: ATMMachines(i) for i, bank in enumerate(banks, 1)}\n",
        "\n",
        "while True:\n",
        "  print(\"Welcom to General ATM\")\n",
        "  for idx, bank in enumerate(banks, 1):\n",
        "        print(f\"{idx}. {bank}\")\n",
        "  print(f\"{len(banks) + 1}. Logout\")\n",
        "  try:\n",
        "      choice = int(input(\"Enter choice: \")) - 1\n",
        "      if choice == len(banks):\n",
        "        print(\"I'm Happy To Meet You!\")\n",
        "        break\n",
        "      else:\n",
        "        selected_bank = banks[choice]\n",
        "        selected_atm = all_atms[selected_bank]\n",
        "  except (ValueError):\n",
        "      print(\" Please enter a valid choice.\")\n",
        "      continue\n",
        "\n",
        "  # new_atm = AtmMachines(banks)\n",
        "  print(f\"Welcome to {selected_bank} \")\n",
        "\n",
        "  try:\n",
        "      service = int(input(f\"Menu:\\n1.Create User\\n2.Login\\n3.Exit\\n\"))\n",
        "  except ValueError:\n",
        "      print(\"Please Inter Valid Choice\")\n",
        "      continue\n",
        "\n",
        "  if service in (1,2): # Create New User Or add new user to this machine\n",
        "    username = input(\"User Name: \")\n",
        "    password = input(\"Password: \")\n",
        "    if service == 1:\n",
        "      new_user = User(username, password)\n",
        "      initial_balance = float(input(\"Enter your Initial Balance: \"))\n",
        "      new_user.deposite(initial_balance)\n",
        "      selected_atm.add_user(new_user)\n",
        "    elif service == 2: # Login\n",
        "      login_flag = selected_atm.login(username, password)\n",
        "      if login_flag:\n",
        "        user = selected_atm.get_user(username)  #self.users[name] return object releated with this username\n",
        "        while True:\n",
        "          x = int(input(\"Services: \\n1.Deposite\\n2.Withdraw\\n3.Check_balance\\n4.Logout\"))\n",
        "          if x == 1:\n",
        "            amount = float(input(\"Enter amount: \"))\n",
        "            user.deposite(amount)\n",
        "          elif x == 2:\n",
        "            amount = float(input(\"Enter amount: \"))\n",
        "            user.withdraw(amount)\n",
        "          elif x == 3:\n",
        "            user.check_balance()\n",
        "          else:\n",
        "            break\n",
        "  else:\n",
        "    break\n"
      ],
      "metadata": {
        "colab": {
          "base_uri": "https://localhost:8080/"
        },
        "id": "v_L08wmzCavk",
        "outputId": "03f08d27-9bc6-465f-c191-ab9d04b145ae",
        "collapsed": true
      },
      "execution_count": null,
      "outputs": [
        {
          "output_type": "stream",
          "name": "stdout",
          "text": [
            "Welcom to General ATM\n",
            "1. CIB\n",
            "2. Bank Ahaly\n",
            "3. Bank Masr\n",
            "4. Logout\n",
            "Enter choice: 4\n",
            "I'm Happy To Meet You!\n"
          ]
        }
      ]
    }
  ]
}